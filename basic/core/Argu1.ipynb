{
 "cells": [
  {
   "cell_type": "code",
   "execution_count": null,
   "metadata": {},
   "outputs": [],
   "source": [
    "# (ai) C:\\kd\\ws_python\\core>python Argu1.py A 3000\n",
    "#                                       0   1 2  \n",
    "import sys\n",
    "\n",
    "print(type(sys.argv)) # <class 'list'>\n",
    "\n",
    "fname = sys.argv[0]    # 파일명\n",
    "area = sys.argv[1]     # 지역\n",
    "pay = int(sys.argv[2]) # 희망 연봉\n",
    "\n",
    "print('fname:', fname)\n",
    "\n",
    "if area == 'A':\n",
    "    print('지역: 서울')\n",
    "elif area == 'B':\n",
    "    print('지역: 경기')\n",
    "elif area == 'C':\n",
    "    print('지역: 인천')\n",
    "else:\n",
    "    print('지역 결정 안됨')\n",
    "\n",
    "print('연봉:', pay)    "
   ]
  },
  {
   "cell_type": "code",
   "execution_count": 3,
   "metadata": {},
   "outputs": [
    {
     "name": "stderr",
     "output_type": "stream",
     "text": [
      "[NbConvertApp] Converting notebook Argu1.ipynb to python\n",
      "[NbConvertApp] Writing 480 bytes to Argu1.py\n"
     ]
    }
   ],
   "source": [
    "!jupyter nbconvert --to python Argu1.ipynb"
   ]
  }
 ],
 "metadata": {
  "kernelspec": {
   "display_name": "ai",
   "language": "python",
   "name": "python3"
  },
  "language_info": {
   "codemirror_mode": {
    "name": "ipython",
    "version": 3
   },
   "file_extension": ".py",
   "mimetype": "text/x-python",
   "name": "python",
   "nbconvert_exporter": "python",
   "pygments_lexer": "ipython3",
   "version": "3.10.13"
  }
 },
 "nbformat": 4,
 "nbformat_minor": 2
}

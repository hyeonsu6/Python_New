{
 "cells": [
  {
   "cell_type": "markdown",
   "metadata": {},
   "source": [
    "#### OOP(Object Oriented Programming): 객체 지향 프로그래밍\n",
    "- 소스를 공유하지 않음: 1000 라인 -> 500개 객체 -> 500000 -> 100000명 접속 -> 500,000,000,000\n",
    "- 소스 공유: 1000 라인 -> 500개 객체 -> 1000 -> 100000명 접속 ->       1,000,000,000"
   ]
  },
  {
   "cell_type": "code",
   "execution_count": 6,
   "metadata": {},
   "outputs": [
    {
     "name": "stdout",
     "output_type": "stream",
     "text": [
      "10,000\n",
      "10,000\n"
     ]
    }
   ],
   "source": [
    "print(format(10000, ','))\n",
    "print(format(10000, \",\"))"
   ]
  },
  {
   "cell_type": "code",
   "execution_count": 6,
   "metadata": {},
   "outputs": [],
   "source": [
    "# 객체들이 소스 공유 예) 쏘카(공유 자동차)\n",
    "# 어느 객체가 이 소스를 사용하고 있는가? self를 통해서 알 수 있다. \n",
    "# self는 어느 객체가 이 소스를 사용하고 있는지 알고 있음으로 그 객체의 전역 변수에 접근 가능하다.\n",
    "class Car: # class 선언, specification(사양, 명세, 규격)\n",
    "  def __init__(self, name, price, chajong):  # 생성자, 초기값 할당\n",
    "    print(f'carobj self: {self}')\n",
    "       \n",
    "    self.name = name  # 전역 변수 <- 지역 변수\n",
    "    self.price = price \n",
    "    self.chajong = chajong\n",
    "\n",
    "  def sale(self): # 함수, 메소드, self 생략 불가능\n",
    "    print(f'sale 함수의 self: {self}')\n",
    "    \n",
    "    print(f'▶ {self.name}')  \n",
    "    print(f'￦ {format(self.price, \",\")} 원')\n",
    "    print(f'차종: {self.chajong}')  \n",
    "        \n",
    "  def history(self):  # self 생략 불가능\n",
    "    print(f'-----보험 이력-----')\n",
    "    print('무사고입니다.')\n",
    "  \n",
    "  def info(self):  # self 생략 불가능\n",
    "    print(f'-----성능기록부-----')\n",
    "    print('배출가스 0%')\n",
    "    print('오일누유: 없음')\n"
   ]
  },
  {
   "cell_type": "code",
   "execution_count": 7,
   "metadata": {},
   "outputs": [
    {
     "name": "stdout",
     "output_type": "stream",
     "text": [
      "carobj self: <__main__.Car object at 0x0000025FD89EBCA0>\n",
      "sale 함수의 self: <__main__.Car object at 0x0000025FD89EBCA0>\n",
      "▶ 렉스턴\n",
      "￦ 17,000,000 원\n",
      "차종: SUV\n",
      "-----보험 이력-----\n",
      "무사고입니다.\n",
      "-----성능기록부-----\n",
      "배출가스 0%\n",
      "오일누유: 없음\n",
      "carobj self: <__main__.Car object at 0x0000025FD89EA7A0>\n",
      "sale 함수의 self: <__main__.Car object at 0x0000025FD89EA7A0>\n",
      "▶ 레이\n",
      "￦ 8,000,000 원\n",
      "차종: 경차\n",
      "-----보험 이력-----\n",
      "무사고입니다.\n",
      "-----성능기록부-----\n",
      "배출가스 0%\n",
      "오일누유: 없음\n",
      "carobj self: <__main__.Car object at 0x0000025FD89EB340>\n",
      "sale 함수의 self: <__main__.Car object at 0x0000025FD89EB340>\n",
      "▶ 베뉴\n",
      "￦ 13,000,000 원\n",
      "차종: 소형차\n",
      "-----보험 이력-----\n",
      "무사고입니다.\n",
      "-----성능기록부-----\n",
      "배출가스 0%\n",
      "오일누유: 없음\n"
     ]
    }
   ],
   "source": [
    "# 객체(instance: 즉석) 생성\n",
    "carobj1 = Car(\"렉스턴\", 17000000, 'SUV') # self 선언시 에러\n",
    "carobj1.sale() # self == carobj1\n",
    "carobj1.history() # self == carobj1\n",
    "carobj1.info() # self == carobj1\n",
    "\n",
    "carobj2 = Car(\"레이\", 8000000, '경차') # self 선언시 에러\n",
    "carobj2.sale() # self == carobj2\n",
    "carobj2.history() # self == carobj2\n",
    "carobj2.info() # self == carobj2\n",
    "\n",
    "carobj3 = Car(\"베뉴\", 13000000, '소형차') # self 선언시 에러\n",
    "carobj3.sale() # self == carobj3\n",
    "carobj3.history() # self == carobj3\n",
    "carobj3.info() # self == carobj3"
   ]
  },
  {
   "cell_type": "code",
   "execution_count": 10,
   "metadata": {},
   "outputs": [
    {
     "name": "stdout",
     "output_type": "stream",
     "text": [
      "carobj1 self: 2610679430304\n",
      "carobj1 객체의 self 값: 2610679430304\n",
      "carobj2 self: 2610679424928\n",
      "carobj1 객체의 self 값: 2610679424928\n"
     ]
    }
   ],
   "source": [
    "print(f'carobj1 self: {int(\"25FD89EBCA0\", 16)}')  # 16진수를 10진수로 변환\n",
    "print(f'carobj1 객체의 self 값: {id(carobj1)}') # 객체의 고유 번호 -> 파이썬 엔진 -> 실제 메모리와 연결(전역변수)\n",
    "\n",
    "print(f'carobj2 self: {int(\"25FD89EA7A0\", 16)}')  # 16진수를 10진수로 변환\n",
    "print(f'carobj1 객체의 self 값: {id(carobj2)}')\n",
    "\n",
    "# class의 소스는 객체가 공유하며 소스 공유시 어느 객체가 소스를 이용하고 있는지 self로 구분함\n",
    "# carobj1 self: 2610679430304\n",
    "# carobj1 객체의 self 값: 2610679430304\n",
    "# carobj2 self: 2610679424928\n",
    "# carobj1 객체의 self 값: 2610679424928\n"
   ]
  },
  {
   "cell_type": "code",
   "execution_count": 11,
   "metadata": {},
   "outputs": [
    {
     "ename": "NameError",
     "evalue": "name 'carobj1' is not defined",
     "output_type": "error",
     "traceback": [
      "\u001b[1;31m---------------------------------------------------------------------------\u001b[0m",
      "\u001b[1;31mNameError\u001b[0m                                 Traceback (most recent call last)",
      "Cell \u001b[1;32mIn[11], line 2\u001b[0m\n\u001b[0;32m      1\u001b[0m \u001b[38;5;28;01mdel\u001b[39;00m carobj1 \u001b[38;5;66;03m# 객체 삭제\u001b[39;00m\n\u001b[1;32m----> 2\u001b[0m \u001b[38;5;28mprint\u001b[39m(\u001b[38;5;124mf\u001b[39m\u001b[38;5;124m'\u001b[39m\u001b[38;5;124mcarobj1 id: \u001b[39m\u001b[38;5;132;01m{\u001b[39;00m\u001b[38;5;28mid\u001b[39m(\u001b[43mcarobj1\u001b[49m)\u001b[38;5;132;01m}\u001b[39;00m\u001b[38;5;124m'\u001b[39m) \u001b[38;5;66;03m# 객체가 삭제되어 에러 발생\u001b[39;00m\n",
      "\u001b[1;31mNameError\u001b[0m: name 'carobj1' is not defined"
     ]
    }
   ],
   "source": [
    "del carobj1 # 객체 삭제\n",
    "print(f'carobj1 id: {id(carobj1)}') # 객체가 삭제되어 에러 발생"
   ]
  },
  {
   "cell_type": "code",
   "execution_count": 12,
   "metadata": {},
   "outputs": [
    {
     "name": "stdout",
     "output_type": "stream",
     "text": [
      "carobj2 id: 2610679424928\n"
     ]
    }
   ],
   "source": [
    "print(f'carobj2 id: {id(carobj2)}')"
   ]
  },
  {
   "cell_type": "code",
   "execution_count": 1,
   "metadata": {},
   "outputs": [],
   "source": [
    "# 클래스 정의\n",
    "# - 전역변수(속성, property, 필드), 메소드(함수)의 집합\n",
    "# - 모듈과 기능이 비슷하여 클래스 대체로 모듈을 사용하는 경우도 많음.\n",
    "# - 규모가 커지면 모듈에 비해 클래스가 구현하려는 기능에대한 집중도가 우수함.\n",
    "# - 모듈을 사용하더라도 관련된 변수와 함수만 선언을 권장\n",
    "# - import 시에 문법이 거의 같으나 첫자를 대문자로 사용하면 class를 import 하는 것으로 간주함으로\n",
    "#   클래스의 첫자는 반드시 대문자를 사용 할 것(모든 언어 공통).\n",
    "class Calculator: # class의 선언\n",
    "    def __init__(self, su1, su2):  # 생성자: 전역 변수 초기화, self: 전역 변수에 접근하는 객체\n",
    "        self.su1 = su1  # self.su1: 전역 변수 <- su1: 지역 변수의 값\n",
    "        self.su2 = su2\n",
    "        \n",
    "    def add(self): # self 생략 불가능\n",
    "        return self.su1 + self.su2\n",
    "    \n",
    "    def sub(self):\n",
    "        return self.su1 - self.su2\n",
    "    \n",
    "    def mul(self):\n",
    "        return self.su1 * self.su2\n",
    "    \n",
    "    def div(self):\n",
    "        return self.su1 / self.su2"
   ]
  },
  {
   "cell_type": "code",
   "execution_count": 2,
   "metadata": {},
   "outputs": [
    {
     "ename": "TypeError",
     "evalue": "Calculator() takes no arguments",
     "output_type": "error",
     "traceback": [
      "\u001b[1;31m---------------------------------------------------------------------------\u001b[0m",
      "\u001b[1;31mTypeError\u001b[0m                                 Traceback (most recent call last)",
      "Cell \u001b[1;32mIn[2], line 6\u001b[0m\n\u001b[0;32m      2\u001b[0m su2 \u001b[38;5;241m=\u001b[39m \u001b[38;5;28mint\u001b[39m(\u001b[38;5;28minput\u001b[39m(\u001b[38;5;124m'\u001b[39m\u001b[38;5;124m수2: \u001b[39m\u001b[38;5;124m'\u001b[39m))\n\u001b[0;32m      4\u001b[0m \u001b[38;5;66;03m# Calculator class의 객체 생성, 객체명은 calculator\u001b[39;00m\n\u001b[0;32m      5\u001b[0m \u001b[38;5;66;03m# class명은 첫자 대문자, 객체명은 첫자 소문자, 일반적인 개발자들이 지키는 규칙\u001b[39;00m\n\u001b[1;32m----> 6\u001b[0m cal \u001b[38;5;241m=\u001b[39m \u001b[43mCalculator\u001b[49m\u001b[43m(\u001b[49m\u001b[43msu1\u001b[49m\u001b[43m,\u001b[49m\u001b[43m \u001b[49m\u001b[43msu2\u001b[49m\u001b[43m)\u001b[49m \u001b[38;5;66;03m# 객체 생성시 생성자 호출 -> 변수 초기화\u001b[39;00m\n\u001b[0;32m      7\u001b[0m \u001b[38;5;28mprint\u001b[39m(cal\u001b[38;5;241m.\u001b[39msu1) \u001b[38;5;66;03m# class 요소 사용시 객체명을 앞부분에 동반함\u001b[39;00m\n\u001b[0;32m      8\u001b[0m \u001b[38;5;28mprint\u001b[39m(cal\u001b[38;5;241m.\u001b[39msu2)\n",
      "\u001b[1;31mTypeError\u001b[0m: Calculator() takes no arguments"
     ]
    }
   ],
   "source": [
    "su1 = int(input('수1: '))\n",
    "su2 = int(input('수2: '))\n",
    "\n",
    "# Calculator class의 객체 생성, 객체명은 calculator\n",
    "# class명은 첫자 대문자, 객체명은 첫자 소문자, 일반적인 개발자들이 지키는 규칙\n",
    "cal = Calculator(su1, su2) # 객체 생성시 생성자 호출 -> 변수 초기화\n",
    "print(cal.su1) # class 요소 사용시 객체명을 앞부분에 동반함\n",
    "print(cal.su2)\n",
    "print(cal.add()) # self 생략\n",
    "print(cal.sub()) # self 생략\n",
    "print(cal.mul()) # self 생략\n",
    "print(cal.div()) # self 생략\n",
    "\n",
    "# 수1: 10\n",
    "# 수2: 3\n",
    "# 10\n",
    "# 3\n",
    "# 13\n",
    "# 7\n",
    "# 30\n",
    "# 3.3333333333333335"
   ]
  },
  {
   "cell_type": "code",
   "execution_count": 22,
   "metadata": {},
   "outputs": [],
   "source": [
    "class Interest:\n",
    "   def __init__(self, wonkum): # 생성자, 전역변수 초기화, 자동 호출됨\n",
    "     self.wonkum = wonkum * 10000\n",
    "\n",
    "   def calc(self): # 데이터 처리 함수\n",
    "      self.ija = int(self.wonkum * 0.02) # 2 % 이자\n",
    "      self.mon = int(self.ija / 12)\n",
    "      self.day = int(self.ija / 365)\n",
    "      self.receive = int(self.day-(self.day*0.14)) # 세금 14% 제외\n",
    "\n",
    "   def display(self): # 출력 함수\n",
    "      print('원금:', format(self.wonkum, ','), '원')\n",
    "      print('년이자:', format(self.ija, ','), '원')\n",
    "      print('월이자:', format(self.mon, ','), '원')\n",
    "      print('오늘이자:', format(self.day, ','), '원')\n",
    "      print('세후이자:', format(self.receive, ','), '원')"
   ]
  },
  {
   "cell_type": "code",
   "execution_count": 23,
   "metadata": {},
   "outputs": [
    {
     "name": "stdout",
     "output_type": "stream",
     "text": [
      "원금: 50,000,000 원\n",
      "년이자: 1,000,000 원\n",
      "월이자: 83,333 원\n",
      "오늘이자: 2,739 원\n",
      "세후이자: 2,355 원\n"
     ]
    }
   ],
   "source": [
    "wonkum = int(input('금액 입력(만원단위): '))\n",
    "interest = Interest(wonkum)\n",
    "interest.calc()\n",
    "interest.display()\n",
    "\n",
    "# 금액 입력(만원단위):5000\n",
    "# 원금: 50,000,000 원\n",
    "# 년이자: 1,000,000 원\n",
    "# 월이자: 83,333 원\n",
    "# 오늘이자: 2,739 원\n",
    "# 세후이자: 2,355 원"
   ]
  },
  {
   "cell_type": "code",
   "execution_count": 24,
   "metadata": {},
   "outputs": [],
   "source": [
    "class Oneroom():\n",
    "  def __init__(self,width,height):\n",
    "    self.width=width\n",
    "    self.height=height\n",
    "    \n",
    "  def calc(self):\n",
    "    self.m2 = self.width * self.height\n",
    "    self.py = self.m2 / 3.3\n",
    "    \n",
    "  def display(self):\n",
    "    print(f'원룸의 크기: {self.m2} m² {self.py} 평')"
   ]
  },
  {
   "cell_type": "code",
   "execution_count": 25,
   "metadata": {},
   "outputs": [
    {
     "name": "stdout",
     "output_type": "stream",
     "text": [
      "원룸의 크기: 18 m² 5.454545454545455 평\n"
     ]
    }
   ],
   "source": [
    "width = int(input(\"원룸의 width을 입력하세요: \"))\n",
    "height = int(input(\"원룸의 height를 입력하세요:\"))\n",
    "        \n",
    "oneroom = Oneroom(width, height)\n",
    "oneroom.calc()\n",
    "oneroom.display()\n",
    "\n",
    "# 원룸의 width을 입력하세요: 6\n",
    "# 원룸의 height를 입력하세요:3\n",
    "# 원룸의 크기:  18  m² 5.454545454545455 평"
   ]
  },
  {
   "cell_type": "code",
   "execution_count": 28,
   "metadata": {},
   "outputs": [],
   "source": [
    "class BMI:\n",
    "    def __init__(self, height, kg):\n",
    "        self.height = height\n",
    "        self.kg = kg\n",
    "    \n",
    "    def calc(self):\n",
    "        self.bmis = (self.kg / self.height**2) * 10000\n",
    "        \n",
    "    def display(self):\n",
    "        print(f'몸무게(kg): {self.kg}  키(신장, cm): {self.height}   BMI: {self.bmis} ')"
   ]
  },
  {
   "cell_type": "code",
   "execution_count": 29,
   "metadata": {},
   "outputs": [
    {
     "name": "stdout",
     "output_type": "stream",
     "text": [
      "몸무게(kg): 64  키(신장, cm): 166   BMI: 23.22543184787342 \n"
     ]
    }
   ],
   "source": [
    "height = int(input('키(신장, cm):'))\n",
    "kg = int(input('몸무게(kg):'))\n",
    "        \n",
    "bmi = BMI(height, kg)\n",
    "bmi.calc()\n",
    "bmi.display()\n",
    "\n",
    "# 키(신장, cm):167\n",
    "# 몸무게(kg):64\n",
    "# BMI: 22.948115744558788"
   ]
  },
  {
   "cell_type": "code",
   "execution_count": 30,
   "metadata": {},
   "outputs": [],
   "source": [
    "class Book:\n",
    "    def __init__(self):\n",
    "        self.grade = input('회원 등급: ')\n",
    "        self.price = int(input('도서 정가: '))\n",
    "    \n",
    "    def calc(self):\n",
    "        if self.grade == 'P'or  self.grade =='p':\n",
    "            self.pay = self.price - (self.price * 0.07)\n",
    "        elif self.grade == 'G'or  self.grade =='g':\n",
    "            self.pay = self.price - (self.price * 0.06)  \n",
    "        elif self.grade == 'S'or  self.grade =='s':\n",
    "            self.pay = self.price - (self.price * 0.05)  \n",
    "        elif self.grade == 'F'or  self.grade =='f':\n",
    "            self.pay = self.price - (self.price * 0.02)\n",
    "        else:\n",
    "            self.pay = self.price\n",
    "\n",
    "    def display(self):\n",
    "        print('회원 등급:', self.grade)\n",
    "        print('도서 정가:', format(self.price, ','))\n",
    "        print('결재 금액:', format(int(self.pay), ','))"
   ]
  },
  {
   "cell_type": "code",
   "execution_count": 31,
   "metadata": {},
   "outputs": [
    {
     "name": "stdout",
     "output_type": "stream",
     "text": [
      "회원 등급: p\n",
      "도서 정가: 30,000\n",
      "결재 금액: 27,900\n"
     ]
    }
   ],
   "source": [
    "book = Book()\n",
    "book.calc()\n",
    "book.display()"
   ]
  },
  {
   "cell_type": "code",
   "execution_count": 1,
   "metadata": {},
   "outputs": [],
   "source": [
    "# 소멸자\n",
    "# self: 객체의 함수들이 공유하는 메모리 영역, 전역 변수 기능을 함.\n",
    "class Position:\n",
    "    def __init__(self):\n",
    "        self.score = int(input('입력: '))\n",
    "\n",
    "    def __del__(self):  # 소멸자, 자동 호출됨\n",
    "        print('객체가 메모리에서 소멸되었습니다.')\n",
    "    \n",
    "    def calc(self):\n",
    "        if self.score >= 0 and self.score <= 9:\n",
    "            self.msg = '1의 자리'\n",
    "        elif self.score >= 10 and self.score <= 99:\n",
    "            self.msg = '10의 자리'\n",
    "        elif self.score >= 100 and self.score <= 999:\n",
    "            self.msg = '100의 자리'\n",
    "        elif self.score >= 1000:\n",
    "            self.msg = '1000의 자리이상'\n",
    "\n",
    "        return self.msg\n",
    "\n",
    "    def display(self):\n",
    "        print(self.msg)"
   ]
  },
  {
   "cell_type": "code",
   "execution_count": 2,
   "metadata": {},
   "outputs": [
    {
     "name": "stdout",
     "output_type": "stream",
     "text": [
      "100의 자리\n",
      "객체가 메모리에서 소멸되었습니다.\n"
     ]
    }
   ],
   "source": [
    "position = Position()\n",
    "position.calc()\n",
    "position.display()\n",
    "del position  # 소멸자 호출"
   ]
  },
  {
   "cell_type": "code",
   "execution_count": 3,
   "metadata": {},
   "outputs": [
    {
     "name": "stdout",
     "output_type": "stream",
     "text": [
      "객체가 메모리에서 소멸되었습니다.\n"
     ]
    }
   ],
   "source": [
    "position = Position()\n",
    "\n",
    "# position 객체 변수명에 새로운 객체를 할당함으로 소멸자가 빨리 호출됨. \n",
    "position = Position() # 기존의 객체가 삭제되고 새롭게 객체 할당"
   ]
  },
  {
   "cell_type": "code",
   "execution_count": 1,
   "metadata": {},
   "outputs": [],
   "source": [
    "class Data:\n",
    "  subject = '인공지능'\n",
    "  subject_static = ''\n",
    "  \n",
    "  def __init__(self):\n",
    "    subject = '기술 통계'        # 지역 변수, 함수 안에서만 사용하는 변수, stack\n",
    "    self.subject = '가설과 검정' # 전역 변수, Heap\n",
    "    \n",
    "  def setData(self, subject):\n",
    "    self.subject = subject\n",
    "      \n",
    "  def display(self):\n",
    "    # print(f'display subject: {subject}')    # 지역 변수\n",
    "    print(f'display subject: {self.subject}') # 전역 변수"
   ]
  },
  {
   "cell_type": "code",
   "execution_count": 2,
   "metadata": {},
   "outputs": [
    {
     "name": "stdout",
     "output_type": "stream",
     "text": [
      "전역 변수: 가설과 검정\n",
      "display subject: 가설과 검정\n"
     ]
    }
   ],
   "source": [
    "data = Data()\n",
    "print('전역 변수:', data.subject)\n",
    "data.display()"
   ]
  },
  {
   "cell_type": "code",
   "execution_count": 3,
   "metadata": {},
   "outputs": [
    {
     "name": "stdout",
     "output_type": "stream",
     "text": [
      "display subject: 머신러닝\n",
      "display subject: 딥러닝\n",
      "display subject: LLM\n"
     ]
    }
   ],
   "source": [
    "data1 = Data()\n",
    "data1.setData('머신러닝')\n",
    "data1.display()\n",
    "data2 = Data()\n",
    "data2.setData('딥러닝')\n",
    "data2.display()\n",
    "data3 = Data()\n",
    "data3.setData('LLM')\n",
    "data3.display()"
   ]
  },
  {
   "cell_type": "code",
   "execution_count": 4,
   "metadata": {},
   "outputs": [
    {
     "name": "stdout",
     "output_type": "stream",
     "text": [
      "인공지능\n",
      "기계학습\n",
      "기계학습\n",
      "기계학습\n"
     ]
    }
   ],
   "source": [
    "# static 변수, class 변수, 모든 객체가 공유하는 변수, 꼭 필요시만 사용\n",
    "print(Data.subject)  # Class의 소스가 메모리에 적제(load) 될때 메모리 할당 받는 변수\n",
    "Data.subject_static = '기계학습' \n",
    "print(data1.subject_static)\n",
    "print(data2.subject_static)\n",
    "print(data3.subject_static)"
   ]
  },
  {
   "cell_type": "code",
   "execution_count": null,
   "metadata": {},
   "outputs": [],
   "source": []
  }
 ],
 "metadata": {
  "kernelspec": {
   "display_name": "ai",
   "language": "python",
   "name": "python3"
  },
  "language_info": {
   "codemirror_mode": {
    "name": "ipython",
    "version": 3
   },
   "file_extension": ".py",
   "mimetype": "text/x-python",
   "name": "python",
   "nbconvert_exporter": "python",
   "pygments_lexer": "ipython3",
   "version": "3.10.13"
  }
 },
 "nbformat": 4,
 "nbformat_minor": 2
}

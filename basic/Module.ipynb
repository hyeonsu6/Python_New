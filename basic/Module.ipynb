{
 "cells": [
  {
   "cell_type": "markdown",
   "metadata": {},
   "source": [
    "#### 내장 함수"
   ]
  },
  {
   "cell_type": "code",
   "execution_count": 1,
   "metadata": {},
   "outputs": [
    {
     "name": "stdout",
     "output_type": "stream",
     "text": [
      "[1, 2, 3, 4, 5]\n"
     ]
    }
   ],
   "source": [
    "data = [i for i  in range(1, 6)]\n",
    "print(data)"
   ]
  },
  {
   "cell_type": "code",
   "execution_count": 2,
   "metadata": {},
   "outputs": [
    {
     "name": "stdout",
     "output_type": "stream",
     "text": [
      "15\n"
     ]
    }
   ],
   "source": [
    "print(sum(data))"
   ]
  },
  {
   "cell_type": "code",
   "execution_count": 10,
   "metadata": {},
   "outputs": [
    {
     "name": "stdout",
     "output_type": "stream",
     "text": [
      "[58, 21, 97, 52, 92, 95, 60, 84, 68, 32]\n",
      "97\n"
     ]
    }
   ],
   "source": [
    "import random \n",
    "\n",
    "# random.seed(2)\n",
    "data = [random.randint(1, 100) for i in range(1, 11)]\n",
    "print(data)\n",
    "print(max(data))"
   ]
  },
  {
   "cell_type": "code",
   "execution_count": 55,
   "metadata": {},
   "outputs": [
    {
     "name": "stdout",
     "output_type": "stream",
     "text": [
      "[5, 4, 1, 7, 9]\n"
     ]
    }
   ],
   "source": [
    "print(random.sample(range(1, 11), 5)) # 비복원 추출"
   ]
  },
  {
   "cell_type": "code",
   "execution_count": 79,
   "metadata": {},
   "outputs": [
    {
     "name": "stdout",
     "output_type": "stream",
     "text": [
      "모든 참여 회원: [1, 2, 3, 4, 5, 6, 7, 8, 9, 10]\n",
      "1차 통과: [3, 2, 1, 4, 9]\n",
      "최종 당첨자: 9 번 회원 상품 수여\n"
     ]
    }
   ],
   "source": [
    "users = [i for i in range(1,11)]\n",
    "print('모든 참여 회원:', users)\n",
    "\n",
    "per50 = random.sample(users, 5) # 50% 무작위 비복원 추출\n",
    "print('1차 통과:', per50)\n",
    "\n",
    "print('최종 당첨자:', random.choice(per50), '번 회원 상품 수여')"
   ]
  },
  {
   "cell_type": "code",
   "execution_count": 80,
   "metadata": {},
   "outputs": [
    {
     "name": "stdout",
     "output_type": "stream",
     "text": [
      "[0, 0, 0, 0, 0, 0, 0, 0, 0, 0, 1, 1, 1, 1, 1, 1, 1, 1, 1, 1]\n"
     ]
    }
   ],
   "source": [
    "# [0, 0, 0, 0, 0, 0, 0, 0, 0, 0, 1, 1, 1, 1, 1, 1, 1, 1, 1, 1]\n",
    "data = [0 for i in range(10)] + [1 for i in range(10)]\n",
    "print(data)"
   ]
  },
  {
   "cell_type": "code",
   "execution_count": 81,
   "metadata": {},
   "outputs": [
    {
     "name": "stdout",
     "output_type": "stream",
     "text": [
      "20\n",
      "14.0\n",
      "14\n",
      "[0, 0, 0, 0, 0, 0, 0, 0, 0, 0, 1, 1, 1, 1]\n",
      "[1, 1, 1, 1, 1]\n",
      "[1]\n"
     ]
    }
   ],
   "source": [
    "print(len(data))       # 20\n",
    "print(len(data) * 0.7) # 70%\n",
    "print(int(len(data) * 0.7))  # float -> int\n",
    "print(data[:int(len(data) * 0.7)]) # :14\n",
    "print(data[int(len(data) * 0.7):int(len(data) * 0.95)]) # 14:19\n",
    "print(data[int(len(data) * 0.95):]) # 19:"
   ]
  },
  {
   "cell_type": "code",
   "execution_count": 100,
   "metadata": {},
   "outputs": [
    {
     "name": "stdout",
     "output_type": "stream",
     "text": [
      "[0, 1, 1, 1, 0, 1, 0, 0, 1, 1, 1, 0, 1, 0, 0, 0, 0, 0, 1, 1]\n"
     ]
    }
   ],
   "source": [
    "random.shuffle(data)\n",
    "print(data)"
   ]
  },
  {
   "cell_type": "code",
   "execution_count": 167,
   "metadata": {},
   "outputs": [
    {
     "name": "stdout",
     "output_type": "stream",
     "text": [
      "7 7 1 5 9 8 7 5 8 6 \n",
      "10 4 9 3 5 3 2 10 5 9 "
     ]
    }
   ],
   "source": [
    "random.seed(0)\n",
    "\n",
    "for i in range(10):\n",
    "    print(random.randint(1, 11), end=' ')\n",
    "\n",
    "print()    \n",
    "for i in range(10):\n",
    "    print(random.randint(1, 11), end=' ')"
   ]
  },
  {
   "cell_type": "code",
   "execution_count": 168,
   "metadata": {},
   "outputs": [
    {
     "name": "stdout",
     "output_type": "stream",
     "text": [
      "10 3 5 2 2 11 6 8 9 2 "
     ]
    }
   ],
   "source": [
    "# 셀이 변경되면 seed의 효력이 상실됨.\n",
    "for i in range(10):\n",
    "    print(random.randint(1, 11), end=' ')"
   ]
  },
  {
   "cell_type": "code",
   "execution_count": 169,
   "metadata": {},
   "outputs": [
    {
     "name": "stdout",
     "output_type": "stream",
     "text": [
      "<class 'time.struct_time'>\n",
      "localTime :  time.struct_time(tm_year=2024, tm_mon=1, tm_mday=30, tm_hour=12, tm_min=54, tm_sec=13, tm_wday=1, tm_yday=30, tm_isdst=0)\n",
      "tm_year :  2024\n",
      "tm_mon :  1\n",
      "tm_mday :  30\n",
      "tm_hour :  12\n",
      "tm_min :  54\n",
      "tm_sec :  13\n",
      "tm_wday :  1\n"
     ]
    }
   ],
   "source": [
    "import time\n",
    "\n",
    "lt = time.localtime()  # 시스템 시간\n",
    "print(type(lt))\n",
    "print('localTime : ', lt)\n",
    "\n",
    "# 상수를 이용한 시스템 시간 출력\n",
    "print('tm_year : ', lt.tm_year)  # 년\n",
    "print('tm_mon : ', lt.tm_mon)    # 월\n",
    "print('tm_mday : ', lt.tm_mday)  # 일\n",
    "print('tm_hour : ', lt.tm_hour)  # 시\n",
    "print('tm_min : ', lt.tm_min)    # 분\n",
    "print('tm_sec : ', lt.tm_sec)    # 초\n",
    "print('tm_wday : ', lt.tm_wday)  # 요일, 0 ~ 6"
   ]
  },
  {
   "cell_type": "code",
   "execution_count": 170,
   "metadata": {},
   "outputs": [
    {
     "name": "stdout",
     "output_type": "stream",
     "text": [
      "12:56:02\n",
      "2024-01-30\n",
      "2024-01-30 12:56:02\n"
     ]
    }
   ],
   "source": [
    "print(time.strftime('%H:%M:%S', time.localtime())) # %M: 분, Minute\n",
    "print(time.strftime('%Y-%m-%d', time.localtime())) # %m: 월, month\n",
    "print(time.strftime('%Y-%m-%d %H:%M:%S', time.localtime())) # %m: 월, month\n",
    "# print(time.strftime('%H:%M:%S', time.gmtime()))\n",
    "# print(time.strftime('%Y:%m:%d:%H:%M:%S', time.gmtime()))"
   ]
  },
  {
   "cell_type": "code",
   "execution_count": 171,
   "metadata": {},
   "outputs": [
    {
     "name": "stdout",
     "output_type": "stream",
     "text": [
      "1706587071.7086926\n",
      "처리 시작 시간: 1706587071.7086926초\n",
      "처리 종료 시간: 1706587076.717564초\n",
      "처리 시간: 5초\n"
     ]
    }
   ],
   "source": [
    "# 처리 시간의 산출\n",
    "# 1970-01-01 0시 0분 0초 부터 경과한 시간 초 단위 ★ \n",
    "print(time.time())\n",
    "\n",
    "start = time.time()\n",
    "time.sleep(5)\n",
    "end = time.time()\n",
    "\n",
    "print('처리 시작 시간: {0}초'.format(start))\n",
    "print('처리 종료 시간: {0}초'.format(end))\n",
    "print('처리 시간: {0}초'.format(int(end-start)))"
   ]
  },
  {
   "cell_type": "code",
   "execution_count": 175,
   "metadata": {},
   "outputs": [
    {
     "name": "stdout",
     "output_type": "stream",
     "text": [
      "ABC\n",
      "abc\n"
     ]
    }
   ],
   "source": [
    "print('abc'.upper())\n",
    "print('abc'.lower())"
   ]
  }
 ],
 "metadata": {
  "kernelspec": {
   "display_name": "ai",
   "language": "python",
   "name": "python3"
  },
  "language_info": {
   "codemirror_mode": {
    "name": "ipython",
    "version": 3
   },
   "file_extension": ".py",
   "mimetype": "text/x-python",
   "name": "python",
   "nbconvert_exporter": "python",
   "pygments_lexer": "ipython3",
   "version": "3.10.13"
  }
 },
 "nbformat": 4,
 "nbformat_minor": 2
}

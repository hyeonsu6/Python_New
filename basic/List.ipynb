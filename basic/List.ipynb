{
 "cells": [
  {
   "cell_type": "markdown",
   "metadata": {},
   "source": [
    "#### List(배열)"
   ]
  },
  {
   "cell_type": "code",
   "execution_count": 2,
   "metadata": {},
   "outputs": [
    {
     "name": "stdout",
     "output_type": "stream",
     "text": [
      "<class 'list'>\n",
      "['mon', 'tue', 'wed', 2022, 10.5, True]\n"
     ]
    }
   ],
   "source": [
    "days=['mon', 'tue', 'wed', 2022, 10.5, True]\n",
    "print(type(days))\n",
    "print(days)"
   ]
  },
  {
   "cell_type": "code",
   "execution_count": 4,
   "metadata": {},
   "outputs": [
    {
     "name": "stdout",
     "output_type": "stream",
     "text": [
      "mon\n",
      "tue\n",
      "wed\n"
     ]
    }
   ],
   "source": [
    "print(days[0])\n",
    "print(days[1])\n",
    "print(days[2])"
   ]
  },
  {
   "cell_type": "code",
   "execution_count": 5,
   "metadata": {},
   "outputs": [
    {
     "name": "stdout",
     "output_type": "stream",
     "text": [
      "mon\n",
      "tue\n",
      "wed\n",
      "2022\n",
      "10.5\n",
      "True\n"
     ]
    }
   ],
   "source": [
    "for item in days:\n",
    "    print(item)"
   ]
  },
  {
   "cell_type": "code",
   "execution_count": 6,
   "metadata": {},
   "outputs": [
    {
     "name": "stdout",
     "output_type": "stream",
     "text": [
      "mon\n",
      "tue\n",
      "wed\n",
      "2022\n",
      "10.5\n",
      "True\n"
     ]
    }
   ],
   "source": [
    "for i in range(6): # 0 ~ 5\n",
    "    print(days[i])\n",
    "    # print(mons[i])"
   ]
  },
  {
   "cell_type": "code",
   "execution_count": 7,
   "metadata": {},
   "outputs": [
    {
     "name": "stdout",
     "output_type": "stream",
     "text": [
      "mon\n",
      "tue\n",
      "wed\n",
      "2022\n",
      "10.5\n",
      "True\n"
     ]
    }
   ],
   "source": [
    "for i in range(len(days)): # 0 ~ 5\n",
    "    print(days[i])\n",
    "    # print(mons[i])"
   ]
  },
  {
   "cell_type": "code",
   "execution_count": 9,
   "metadata": {},
   "outputs": [
    {
     "name": "stdout",
     "output_type": "stream",
     "text": [
      "1. mon\n",
      "2. tue\n",
      "3. wed\n",
      "4. 2022\n",
      "5. 10.5\n",
      "6. True\n"
     ]
    }
   ],
   "source": [
    "for i, item in enumerate(days): # 0 ~ 5\n",
    "    print(f'{i+1}. {days[i]}')\n"
   ]
  },
  {
   "cell_type": "code",
   "execution_count": 10,
   "metadata": {},
   "outputs": [
    {
     "name": "stdout",
     "output_type": "stream",
     "text": [
      "[58, 64, 7, 19, 11, 43, 40, 18, 19, 15]\n",
      "58 64 7 19 11 43 40 18 19 15 "
     ]
    }
   ],
   "source": [
    "import random\n",
    "\n",
    "data=[] # list 변수 선언\n",
    "\n",
    "for i in range(10): # 0 ~ 9\n",
    "  data.append(random.randint(1, 100)) # 1 ~ 100\n",
    "\n",
    "print(data)\n",
    "\n",
    "for item in data:\n",
    "  print(item, end=' ')"
   ]
  },
  {
   "cell_type": "code",
   "execution_count": 11,
   "metadata": {},
   "outputs": [
    {
     "name": "stdout",
     "output_type": "stream",
     "text": [
      "[2024, 58, 64, 7, 19, 11, 43, 40, 18, 19, 15]\n"
     ]
    }
   ],
   "source": [
    "data.insert(0, 2024)\n",
    "print(data)"
   ]
  },
  {
   "cell_type": "code",
   "execution_count": 12,
   "metadata": {},
   "outputs": [
    {
     "name": "stdout",
     "output_type": "stream",
     "text": [
      "15\n",
      "[2024, 58, 64, 7, 19, 11, 43, 40, 18, 19]\n"
     ]
    }
   ],
   "source": [
    "print(data.pop()) # 마지막 요소를 꺼내옴, 원본이 변경됨\n",
    "print(data)"
   ]
  },
  {
   "cell_type": "code",
   "execution_count": 14,
   "metadata": {},
   "outputs": [
    {
     "name": "stdout",
     "output_type": "stream",
     "text": [
      "[58, 64, 7, 19, 11, 43, 40, 18, 19]\n"
     ]
    }
   ],
   "source": [
    "data.remove(2024) # 좌측에서 동일한값 1개 삭제, 2024 없으면 에러 발생\n",
    "print(data)"
   ]
  },
  {
   "cell_type": "code",
   "execution_count": 15,
   "metadata": {},
   "outputs": [
    {
     "name": "stdout",
     "output_type": "stream",
     "text": [
      "[1, 2, 3, 4, 5, 6]\n"
     ]
    }
   ],
   "source": [
    "list1 = [1,2,3]\n",
    "list2 = [4,5,6]\n",
    "list3 = list1 + list2 # 연결, 요소간 더하기(Vector 연산): Numpy\n",
    "print(list3)"
   ]
  },
  {
   "cell_type": "code",
   "execution_count": 16,
   "metadata": {},
   "outputs": [
    {
     "name": "stdout",
     "output_type": "stream",
     "text": [
      "총점: 440, 평균:  88, 등급: B\n"
     ]
    }
   ],
   "source": [
    "# 입사 성적(list, for, if)을 처리하는 프로그램을 제작하시오.\n",
    "# 성적을 list에 저장 할 것, input 함수 생략.\n",
    "# python: 90, java: 80, html: 100, dbms: 70, tensorflow: 100\n",
    "# 총점, 평균, 등급(90 ~ 100: A, 80 ~ 89: B, 70 ~ 79: C, 60 ~ 69: D, 그외는 F를 출력할 것)\n",
    "\n",
    "# 총점: 440, 평균: 88, 등급: B\n",
    "\n",
    "# Hint: list, for, elif\n",
    "\n",
    "data = [90, 80, 100, 70, 100]\n",
    "tot = 0\n",
    "\n",
    "for item in data:\n",
    "    tot = tot + item\n",
    "\n",
    "avg = tot / len(data)\n",
    "grade = ''\n",
    "\n",
    "if 90 <= avg <= 100:\n",
    "    grade = 'A'\n",
    "elif 80 <= avg <= 89:\n",
    "    grade = 'B'\n",
    "elif 70 <= avg <= 79:\n",
    "    grade = 'C'\n",
    "elif 60 <= avg <= 69:\n",
    "    grade = 'D'\n",
    "else:\n",
    "    grade = 'F'\n",
    "\n",
    "print(f'총점: {tot}, 평균: {avg: .0f}, 등급: {grade}')"
   ]
  },
  {
   "cell_type": "code",
   "execution_count": 18,
   "metadata": {},
   "outputs": [
    {
     "name": "stdout",
     "output_type": "stream",
     "text": [
      "['가길동', 100, 90, 80]\n",
      "성명: 가길동, 총점: 270, 평균: 90.0\n",
      "['나길순', 90, 95, 85]\n",
      "성명: 나길순, 총점: 270, 평균: 90.0\n",
      "['다길순', 70, 75, 90]\n",
      "성명: 다길순, 총점: 235, 평균: 78.3\n"
     ]
    }
   ],
   "source": [
    "# 2차원\n",
    "sungjuk = [['가길동', 100, 90, 80],\n",
    "           ['나길순', 90, 95, 85],\n",
    "           ['다길순', 70, 75, 90]]\n",
    "\n",
    "for row in sungjuk:\n",
    "    print(row)\n",
    "    name = row[0]\n",
    "    tot = row[1] + row[2] + row[3]\n",
    "    avg = tot / 3\n",
    "    print(f'성명: {name}, 총점: {tot}, 평균: {avg:.1f}')"
   ]
  },
  {
   "cell_type": "code",
   "execution_count": 19,
   "metadata": {},
   "outputs": [
    {
     "name": "stdout",
     "output_type": "stream",
     "text": [
      "[0, 1, 2, 3, 4]\n"
     ]
    }
   ],
   "source": [
    "# list 컴프리헨션\n",
    "data = [i for i in range(5)]\n",
    "print(data)"
   ]
  },
  {
   "cell_type": "code",
   "execution_count": 20,
   "metadata": {},
   "outputs": [
    {
     "name": "stdout",
     "output_type": "stream",
     "text": [
      "[1, 2, 3, 4, 5, 6, 7, 8, 9, 10]\n"
     ]
    }
   ],
   "source": [
    "print([i for i in range(1, 11, 1)]) # 1 ~ 10"
   ]
  },
  {
   "cell_type": "code",
   "execution_count": 21,
   "metadata": {},
   "outputs": [
    {
     "name": "stdout",
     "output_type": "stream",
     "text": [
      "[2, 4, 6, 8, 10]\n"
     ]
    }
   ],
   "source": [
    "print([i for i in range(1, 11, 1) if i % 2 == 0])\n",
    "#            1                       2"
   ]
  },
  {
   "cell_type": "code",
   "execution_count": 23,
   "metadata": {},
   "outputs": [],
   "source": [
    "# print([i for i in range(1, 11, 1) if i % 2 == 0 else 1]) # X\n"
   ]
  },
  {
   "cell_type": "code",
   "execution_count": 24,
   "metadata": {},
   "outputs": [
    {
     "name": "stdout",
     "output_type": "stream",
     "text": [
      "[1, 2, 3, 4, 5, 6, 7, 8, 9]\n"
     ]
    }
   ],
   "source": [
    "data = [[1, 2, 3], [4, 5, 6], [7, 8, 9]]\n",
    "print([num for row in data for num in row])\n",
    "#               1               2     "
   ]
  },
  {
   "cell_type": "code",
   "execution_count": 25,
   "metadata": {},
   "outputs": [
    {
     "name": "stdout",
     "output_type": "stream",
     "text": [
      "[2, 4, 6, 8]\n"
     ]
    }
   ],
   "source": [
    "print([num for row in data for num in row if num % 2 == 0])\n",
    "#               1               2             3"
   ]
  },
  {
   "cell_type": "code",
   "execution_count": 26,
   "metadata": {},
   "outputs": [
    {
     "name": "stdout",
     "output_type": "stream",
     "text": [
      "[4, 16, 36, 64]\n"
     ]
    }
   ],
   "source": [
    "print([num ** 2 for row in data for num in row if num % 2 == 0])"
   ]
  },
  {
   "cell_type": "code",
   "execution_count": 34,
   "metadata": {},
   "outputs": [
    {
     "name": "stdout",
     "output_type": "stream",
     "text": [
      "[7, 5, 5, 3, 6]\n"
     ]
    }
   ],
   "source": [
    "import random\n",
    "\n",
    "data = [random.randint(1, 10) for i in range(5)]\n",
    "print(data)"
   ]
  },
  {
   "cell_type": "code",
   "execution_count": 35,
   "metadata": {},
   "outputs": [],
   "source": [
    "data.sort()"
   ]
  },
  {
   "cell_type": "code",
   "execution_count": 36,
   "metadata": {},
   "outputs": [
    {
     "name": "stdout",
     "output_type": "stream",
     "text": [
      "[3, 5, 5, 6, 7]\n"
     ]
    }
   ],
   "source": [
    "print(data)"
   ]
  },
  {
   "cell_type": "code",
   "execution_count": 37,
   "metadata": {},
   "outputs": [
    {
     "name": "stdout",
     "output_type": "stream",
     "text": [
      "[7, 6, 5, 5, 3]\n"
     ]
    }
   ],
   "source": [
    "data.sort(reverse=True) # Decending\n",
    "print(data)"
   ]
  },
  {
   "cell_type": "code",
   "execution_count": 38,
   "metadata": {},
   "outputs": [
    {
     "name": "stdout",
     "output_type": "stream",
     "text": [
      "[3, 5, 5, 6, 7]\n"
     ]
    }
   ],
   "source": [
    "data.sort(reverse=False) # Ascending\n",
    "print(data)"
   ]
  },
  {
   "cell_type": "code",
   "execution_count": 39,
   "metadata": {},
   "outputs": [
    {
     "name": "stdout",
     "output_type": "stream",
     "text": [
      "['가길동', '나길동', '다길동']\n"
     ]
    }
   ],
   "source": [
    "data = ['다길동', '나길동', '가길동']\n",
    "data.sort(reverse=False)\n",
    "print(data)"
   ]
  },
  {
   "cell_type": "code",
   "execution_count": 41,
   "metadata": {},
   "outputs": [
    {
     "name": "stdout",
     "output_type": "stream",
     "text": [
      "3.6666666666666665\n",
      "3\n"
     ]
    }
   ],
   "source": [
    "print(11/3)\n",
    "print(11//3) # 반올림 안됨."
   ]
  },
  {
   "cell_type": "code",
   "execution_count": 42,
   "metadata": {},
   "outputs": [
    {
     "name": "stdout",
     "output_type": "stream",
     "text": [
      "95 : ***********************************************************************************************\n",
      "80 : ********************************************************************************\n",
      "75 : ***************************************************************************\n",
      "71 : ***********************************************************************\n",
      "67 : *******************************************************************\n",
      "50 : **************************************************\n",
      "45 : *********************************************\n"
     ]
    }
   ],
   "source": [
    "# 각 영업부서의 판매실적을 10만원당 '*'하나로 대응하여 출력하시오.\n",
    "# 출력\n",
    "# 95 :***********************************************************************************************\n",
    "# 80 :********************************************************************************\n",
    "# 75 :***************************************************************************\n",
    "# 71 :***********************************************************************\n",
    "# 67 :*******************************************************************\n",
    "# 50 :**************************************************\n",
    "# 45 :*********************************************\n",
    "# 필수 구현\n",
    "sales = [950, 750, 500, 450, 800, 670, 710]\n",
    "\n",
    "for i in range(len(sales)): # 0 ~ 6\n",
    "    sales[i] = int(sales[i] / 10) # int: 반올림 안됨\n",
    "\n",
    "sales.sort(reverse=True)\n",
    "# print(sales)\n",
    "\n",
    "for i in range(len(sales)): # 0 ~ 6\n",
    "    print(sales[i], ':', '*' * sales[i])"
   ]
  },
  {
   "cell_type": "code",
   "execution_count": 43,
   "metadata": {},
   "outputs": [
    {
     "name": "stdout",
     "output_type": "stream",
     "text": [
      "F\n",
      "R\n",
      "I\n",
      "D\n",
      "A\n",
      "Y\n"
     ]
    }
   ],
   "source": [
    "data = 'FRIDAY' # 문자 배열\n",
    "for chr in data:\n",
    "    print(chr)"
   ]
  },
  {
   "cell_type": "code",
   "execution_count": 44,
   "metadata": {},
   "outputs": [
    {
     "name": "stdout",
     "output_type": "stream",
     "text": [
      "F\n",
      "R\n",
      "I\n",
      "D\n",
      "A\n",
      "Y\n"
     ]
    }
   ],
   "source": [
    "for i in range(len(data)):\n",
    "    print(data[i])"
   ]
  },
  {
   "cell_type": "code",
   "execution_count": 45,
   "metadata": {},
   "outputs": [
    {
     "name": "stdout",
     "output_type": "stream",
     "text": [
      "[10, 20, 30, 40, 50]\n",
      "50 40 30 20 10 "
     ]
    }
   ],
   "source": [
    "data = [i*10 for i in range(1, 6, 1)]\n",
    "print(data) # 0 ~ 4\n",
    "\n",
    "for i in range(len(data)-1, -1, -1):\n",
    "  print(data[i], end=' ')"
   ]
  },
  {
   "cell_type": "code",
   "execution_count": 46,
   "metadata": {},
   "outputs": [
    {
     "name": "stdout",
     "output_type": "stream",
     "text": [
      "FRIDAY\n",
      "Y A D I R F "
     ]
    }
   ],
   "source": [
    "data = \"FRIDAY\"\n",
    "print(data)\n",
    "\n",
    "for i in range(len(data)-1, -1, -1):\n",
    "  print(data[i], end=' ')"
   ]
  },
  {
   "cell_type": "code",
   "execution_count": 49,
   "metadata": {},
   "outputs": [
    {
     "name": "stdout",
     "output_type": "stream",
     "text": [
      "['A', 'Z', 'a', 'z']\n",
      "['A', 'a', 'Z', 'z']\n"
     ]
    }
   ],
   "source": [
    "data = ['a', 'A', 'z', 'Z']\n",
    "data.sort() # 오름 차순\n",
    "print(data)\n",
    "\n",
    "data.sort(key=str.lower) # 의미기반 정렬\n",
    "print(data)\n",
    "\n",
    "# data=[100, 150, 'a', 'Z', 'b']\n",
    "# data.sort() # X, 정렬시는 타입이 일치되어야함."
   ]
  },
  {
   "cell_type": "code",
   "execution_count": 73,
   "metadata": {},
   "outputs": [
    {
     "name": "stdout",
     "output_type": "stream",
     "text": [
      "[45, 65, 46, 66, 95, 76, 85, 6, 92, 51, 33, 52, 50, 59, 5, 73, 50, 11, 100, 52, 44, 14, 7, 64, 64, 100, 97, 69, 58, 96, 79, 74, 65, 74, 30, 27, 62, 54, 84, 18, 90, 94, 2, 4, 47, 91, 28, 71, 10, 64, 3, 81, 72, 8, 87, 78, 18, 65, 90, 23, 5, 20, 55, 90, 20, 99, 31, 41, 30, 29, 24, 20, 96, 23, 20, 51, 8, 6, 11, 75, 65, 17, 88, 95, 99, 79, 52, 21, 27, 79, 46, 98, 60, 47, 86, 83, 97, 80, 28, 50]\n"
     ]
    }
   ],
   "source": [
    "# 데이터 분할\n",
    "import random\n",
    "\n",
    "data = [random.randint(1, 100) for i in range(100)]\n",
    "print(data)"
   ]
  },
  {
   "cell_type": "code",
   "execution_count": 76,
   "metadata": {},
   "outputs": [
    {
     "name": "stdout",
     "output_type": "stream",
     "text": [
      "1. 0 개\n",
      "2. 1 개\n",
      "3. 1 개\n",
      "4. 1 개\n",
      "5. 2 개\n",
      "6. 2 개\n",
      "7. 1 개\n",
      "8. 2 개\n",
      "9. 0 개\n",
      "10. 1 개\n",
      "11. 2 개\n",
      "12. 0 개\n",
      "13. 0 개\n",
      "14. 1 개\n",
      "15. 0 개\n",
      "16. 0 개\n",
      "17. 1 개\n",
      "18. 2 개\n",
      "19. 0 개\n",
      "20. 4 개\n",
      "21. 1 개\n",
      "22. 0 개\n",
      "23. 2 개\n",
      "24. 1 개\n",
      "25. 0 개\n",
      "26. 0 개\n",
      "27. 2 개\n",
      "28. 2 개\n",
      "29. 1 개\n",
      "30. 2 개\n",
      "31. 1 개\n",
      "32. 0 개\n",
      "33. 1 개\n",
      "34. 0 개\n",
      "35. 0 개\n",
      "36. 0 개\n",
      "37. 0 개\n",
      "38. 0 개\n",
      "39. 0 개\n",
      "40. 0 개\n",
      "41. 1 개\n",
      "42. 0 개\n",
      "43. 0 개\n",
      "44. 1 개\n",
      "45. 1 개\n",
      "46. 2 개\n",
      "47. 2 개\n",
      "48. 0 개\n",
      "49. 0 개\n",
      "50. 3 개\n",
      "51. 2 개\n",
      "52. 3 개\n",
      "53. 0 개\n",
      "54. 1 개\n",
      "55. 1 개\n",
      "56. 0 개\n",
      "57. 0 개\n",
      "58. 1 개\n",
      "59. 1 개\n",
      "60. 1 개\n",
      "61. 0 개\n",
      "62. 1 개\n",
      "63. 0 개\n",
      "64. 3 개\n",
      "65. 4 개\n",
      "66. 1 개\n",
      "67. 0 개\n",
      "68. 0 개\n",
      "69. 1 개\n",
      "70. 0 개\n",
      "71. 1 개\n",
      "72. 1 개\n",
      "73. 1 개\n",
      "74. 2 개\n",
      "75. 1 개\n",
      "76. 1 개\n",
      "77. 0 개\n",
      "78. 1 개\n",
      "79. 3 개\n",
      "80. 1 개\n",
      "81. 1 개\n",
      "82. 0 개\n",
      "83. 1 개\n",
      "84. 1 개\n",
      "85. 1 개\n",
      "86. 1 개\n",
      "87. 1 개\n",
      "88. 1 개\n",
      "89. 0 개\n",
      "90. 3 개\n",
      "91. 1 개\n",
      "92. 1 개\n",
      "93. 0 개\n",
      "94. 1 개\n",
      "95. 2 개\n",
      "96. 2 개\n",
      "97. 2 개\n",
      "98. 1 개\n",
      "99. 2 개\n",
      "100. 2 개\n"
     ]
    }
   ],
   "source": [
    "for i in range(1, 101, 1):\n",
    "    print(f'{i}. {data.count(i)} 개') # 빈도 분석"
   ]
  },
  {
   "cell_type": "code",
   "execution_count": 77,
   "metadata": {},
   "outputs": [
    {
     "name": "stdout",
     "output_type": "stream",
     "text": [
      "70\n",
      "[45, 65, 46, 66, 95, 76, 85, 6, 92, 51, 33, 52, 50, 59, 5, 73, 50, 11, 100, 52, 44, 14, 7, 64, 64, 100, 97, 69, 58, 96, 79, 74, 65, 74, 30, 27, 62, 54, 84, 18, 90, 94, 2, 4, 47, 91, 28, 71, 10, 64, 3, 81, 72, 8, 87, 78, 18, 65, 90, 23, 5, 20, 55, 90, 20, 99, 31, 41, 30, 29]\n"
     ]
    }
   ],
   "source": [
    "# 훈련: 70%, 검증: 25%, 테스트: 5%\n",
    "train = data[0:70] # 0 ~ 69\n",
    "print(len(train))\n",
    "print(train)"
   ]
  },
  {
   "cell_type": "code",
   "execution_count": 78,
   "metadata": {},
   "outputs": [
    {
     "name": "stdout",
     "output_type": "stream",
     "text": [
      "70\n",
      "[45, 65, 46, 66, 95, 76, 85, 6, 92, 51, 33, 52, 50, 59, 5, 73, 50, 11, 100, 52, 44, 14, 7, 64, 64, 100, 97, 69, 58, 96, 79, 74, 65, 74, 30, 27, 62, 54, 84, 18, 90, 94, 2, 4, 47, 91, 28, 71, 10, 64, 3, 81, 72, 8, 87, 78, 18, 65, 90, 23, 5, 20, 55, 90, 20, 99, 31, 41, 30, 29]\n"
     ]
    }
   ],
   "source": [
    "train = data[0:int(len(data) * 0.7)]\n",
    "print(len(train))\n",
    "print(train)"
   ]
  },
  {
   "cell_type": "code",
   "execution_count": 79,
   "metadata": {},
   "outputs": [
    {
     "name": "stdout",
     "output_type": "stream",
     "text": [
      "70\n",
      "[45, 65, 46, 66, 95, 76, 85, 6, 92, 51, 33, 52, 50, 59, 5, 73, 50, 11, 100, 52, 44, 14, 7, 64, 64, 100, 97, 69, 58, 96, 79, 74, 65, 74, 30, 27, 62, 54, 84, 18, 90, 94, 2, 4, 47, 91, 28, 71, 10, 64, 3, 81, 72, 8, 87, 78, 18, 65, 90, 23, 5, 20, 55, 90, 20, 99, 31, 41, 30, 29]\n"
     ]
    }
   ],
   "source": [
    "train = data[:int(len(data) * 0.7)] # 시작 index 생략시 0부터 시작\n",
    "print(len(train))\n",
    "print(train)"
   ]
  },
  {
   "cell_type": "code",
   "execution_count": 80,
   "metadata": {},
   "outputs": [
    {
     "name": "stdout",
     "output_type": "stream",
     "text": [
      "25\n",
      "[24, 20, 96, 23, 20, 51, 8, 6, 11, 75, 65, 17, 88, 95, 99, 79, 52, 21, 27, 79, 46, 98, 60, 47, 86]\n"
     ]
    }
   ],
   "source": [
    "train = data[70:95] # 70% 제외, 25% 산출\n",
    "print(len(train))\n",
    "print(train)"
   ]
  },
  {
   "cell_type": "code",
   "execution_count": 82,
   "metadata": {},
   "outputs": [
    {
     "name": "stdout",
     "output_type": "stream",
     "text": [
      "25\n",
      "[24, 20, 96, 23, 20, 51, 8, 6, 11, 75, 65, 17, 88, 95, 99, 79, 52, 21, 27, 79, 46, 98, 60, 47, 86]\n"
     ]
    }
   ],
   "source": [
    "train = data[int(len(data)*0.7):int(len(data)*0.95)] # 70% 제외, 25% 산출\n",
    "print(len(train))\n",
    "print(train)"
   ]
  },
  {
   "cell_type": "code",
   "execution_count": 83,
   "metadata": {},
   "outputs": [
    {
     "name": "stdout",
     "output_type": "stream",
     "text": [
      "5\n",
      "[83, 97, 80, 28, 50]\n"
     ]
    }
   ],
   "source": [
    "train = data[95:] # 5%\n",
    "print(len(train))\n",
    "print(train)"
   ]
  },
  {
   "cell_type": "code",
   "execution_count": 84,
   "metadata": {},
   "outputs": [
    {
     "name": "stdout",
     "output_type": "stream",
     "text": [
      "5\n",
      "[83, 97, 80, 28, 50]\n"
     ]
    }
   ],
   "source": [
    "train = data[int(len(data) * 0.95):] # 5%\n",
    "print(len(train))\n",
    "print(train)"
   ]
  }
 ],
 "metadata": {
  "kernelspec": {
   "display_name": "ai",
   "language": "python",
   "name": "python3"
  },
  "language_info": {
   "codemirror_mode": {
    "name": "ipython",
    "version": 3
   },
   "file_extension": ".py",
   "mimetype": "text/x-python",
   "name": "python",
   "nbconvert_exporter": "python",
   "pygments_lexer": "ipython3",
   "version": "3.10.13"
  }
 },
 "nbformat": 4,
 "nbformat_minor": 2
}

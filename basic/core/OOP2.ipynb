{
 "cells": [
  {
   "cell_type": "markdown",
   "metadata": {},
   "source": [
    "#### 상속"
   ]
  },
  {
   "cell_type": "markdown",
   "metadata": {},
   "source": [
    "#### 시간이 흐르면서 새로운 기능이 추가되며 부모 기능을 상속하는 경우"
   ]
  },
  {
   "cell_type": "code",
   "execution_count": 1,
   "metadata": {},
   "outputs": [],
   "source": [
    "class Phone:  # 모든 클래스는 object class를 상속받음, 생략 가능\n",
    "# class Phone(object):    \n",
    "    phone_name = \"모토롤라\" # attribute, field\n",
    "    \n",
    "    def tel(self):\n",
    "        print('전화 기능: '+ self.phone_name)\n",
    "    \n",
    "    def sms(self):\n",
    "        print('문자 기능')"
   ]
  },
  {
   "cell_type": "code",
   "execution_count": 2,
   "metadata": {},
   "outputs": [
    {
     "name": "stdout",
     "output_type": "stream",
     "text": [
      "모토롤라\n",
      "전화 기능: 모토롤라\n",
      "문자 기능\n"
     ]
    }
   ],
   "source": [
    "phone = Phone()\n",
    "print(phone.phone_name)\n",
    "phone.tel()\n",
    "phone.sms()"
   ]
  },
  {
   "cell_type": "code",
   "execution_count": 3,
   "metadata": {},
   "outputs": [],
   "source": [
    "class PDA(Phone):  # Phone class 상속, class PDA(부모클래스)\n",
    "    pda_name = \"Samsung\" \n",
    "    def mms(self):\n",
    "        # print(\"멀티미디어 메시지: \" + pda_name) # X      \n",
    "        print(\"멀티미디어 메시지: \" + self.pda_name)"
   ]
  },
  {
   "cell_type": "code",
   "execution_count": 4,
   "metadata": {},
   "outputs": [
    {
     "name": "stdout",
     "output_type": "stream",
     "text": [
      "전화 기능: 모토롤라\n",
      "문자 기능\n",
      "멀티미디어 메시지: Samsung\n",
      "모토롤라\n",
      "Samsung\n"
     ]
    }
   ],
   "source": [
    "pda = PDA()\n",
    "pda.tel()\n",
    "pda.sms()\n",
    "pda.mms()\n",
    "print(pda.phone_name)\n",
    "print(pda.pda_name)"
   ]
  },
  {
   "cell_type": "code",
   "execution_count": 5,
   "metadata": {},
   "outputs": [],
   "source": [
    "class Smart(PDA): # PDA를 상속받는 Smart class\n",
    "  smart_name = \"Android\" \n",
    "  def internet(self):\n",
    "    print(\"인터넷: \" + self.smart_name)"
   ]
  },
  {
   "cell_type": "code",
   "execution_count": 6,
   "metadata": {},
   "outputs": [
    {
     "name": "stdout",
     "output_type": "stream",
     "text": [
      "전화 기능: 모토롤라\n",
      "문자 기능\n",
      "멀티미디어 메시지: Samsung\n",
      "인터넷: Android\n",
      "모토롤라\n",
      "Samsung\n",
      "Android\n"
     ]
    }
   ],
   "source": [
    "# Smart class의 객체를 만들어서 메소드와 변수를 출력\n",
    "smart = Smart()\n",
    "smart.tel()\n",
    "smart.sms()\n",
    "smart.mms()\n",
    "smart.internet()\n",
    "print(smart.phone_name)\n",
    "print(smart.pda_name)\n",
    "print(smart.smart_name)"
   ]
  },
  {
   "cell_type": "code",
   "execution_count": 7,
   "metadata": {},
   "outputs": [],
   "source": [
    "# 4차 산업혁명에 대응하는 클래스를 제작하고 테스트하세요.\n",
    "class FIR(Smart):\n",
    "    def ai(self):\n",
    "        print('인공지능')\n",
    "    \n",
    "    def bigdata(self):\n",
    "        print('빅데이터 분석')\n",
    "        \n",
    "    def iot(self):\n",
    "        print('사물 인터넷')"
   ]
  },
  {
   "cell_type": "code",
   "execution_count": 8,
   "metadata": {},
   "outputs": [
    {
     "name": "stdout",
     "output_type": "stream",
     "text": [
      "전화 기능: 모토롤라\n",
      "문자 기능\n",
      "멀티미디어 메시지: Samsung\n",
      "인터넷: Android\n",
      "인공지능\n",
      "빅데이터 분석\n",
      "사물 인터넷\n",
      "모토롤라\n",
      "Samsung\n",
      "Android\n"
     ]
    }
   ],
   "source": [
    "fir = FIR()\n",
    "fir.tel()\n",
    "fir.sms()\n",
    "fir.mms()\n",
    "fir.internet()\n",
    "fir.ai()\n",
    "fir.bigdata()\n",
    "fir.iot()\n",
    "print(fir.phone_name)\n",
    "print(fir.pda_name)\n",
    "print(fir.smart_name)"
   ]
  },
  {
   "cell_type": "code",
   "execution_count": 10,
   "metadata": {},
   "outputs": [],
   "source": [
    "class LLM(FIR):\n",
    "  def chatGPT(self):\n",
    "    print('맥락이해가 가능한 고도화된 대규모 언어 모델')"
   ]
  },
  {
   "cell_type": "code",
   "execution_count": 12,
   "metadata": {},
   "outputs": [
    {
     "name": "stdout",
     "output_type": "stream",
     "text": [
      "전화 기능: 모토롤라\n",
      "문자 기능\n",
      "멀티미디어 메시지: Samsung\n",
      "인터넷: Android\n",
      "인공지능\n",
      "빅데이터 분석\n",
      "사물 인터넷\n",
      "맥락이해가 가능한 고도화된 대규모 언어 모델\n",
      "모토롤라\n",
      "Samsung\n",
      "Android\n"
     ]
    }
   ],
   "source": [
    "llm = LLM()\n",
    "llm.tel()\n",
    "llm.sms()\n",
    "llm.mms()\n",
    "llm.internet()\n",
    "llm.ai()\n",
    "llm.bigdata()\n",
    "llm.iot()\n",
    "llm.chatGPT()\n",
    "print(llm.phone_name)\n",
    "print(llm.pda_name)\n",
    "print(llm.smart_name)"
   ]
  },
  {
   "cell_type": "code",
   "execution_count": null,
   "metadata": {},
   "outputs": [],
   "source": [
    "class AGI(LLM): # Atificial General Intelegence)\n",
    "  def general(self):\n",
    "    print('OpenAI는 AGI를 많은 부분에서 완성한것으로 알려짐')"
   ]
  },
  {
   "cell_type": "code",
   "execution_count": 13,
   "metadata": {},
   "outputs": [
    {
     "name": "stdout",
     "output_type": "stream",
     "text": [
      "<class '__main__.FIR'>\n",
      "<class '__main__.FIR'>\n"
     ]
    }
   ],
   "source": [
    "# 부모 클래스 객체 <- 자식 클래스객체, 자바 O\n",
    "smart = fir\n",
    "print(type(fir))\n",
    "print(type(smart))"
   ]
  },
  {
   "cell_type": "code",
   "execution_count": 18,
   "metadata": {},
   "outputs": [
    {
     "name": "stdout",
     "output_type": "stream",
     "text": [
      "<class '__main__.PDA'>\n",
      "<class '__main__.PDA'>\n"
     ]
    }
   ],
   "source": [
    "# 자식 클래스 객체 <- 부모 클래스객체, 자바 X\n",
    "fir = pda\n",
    "print(type(pda))\n",
    "print(type(fir))"
   ]
  },
  {
   "cell_type": "code",
   "execution_count": null,
   "metadata": {},
   "outputs": [],
   "source": []
  },
  {
   "cell_type": "markdown",
   "metadata": {},
   "source": [
    "#### 공통 기능을 공유하며 다양한 유형으로 기능이 분류되는 경우의 상속"
   ]
  },
  {
   "cell_type": "code",
   "execution_count": 14,
   "metadata": {},
   "outputs": [],
   "source": [
    "class Payment(object):\n",
    "    # 주문\n",
    "    def order(self, menu, price, count):\n",
    "        self.menu = menu\n",
    "        self.price = price\n",
    "        self.count = count\n",
    "    \n",
    "    # 계산\n",
    "    def calc(self):\n",
    "        self.total = self.price * self.count\n",
    "        print()\n",
    "        print('---------------------')    \n",
    "        print('      주문 내역       ')\n",
    "        print('---------------------')\n",
    "        print('메뉴: ' + self.menu)\n",
    "        print('가격: ' + format(self.price, ',') + ' 원')\n",
    "        print('수량: ' + str(self.count))\n",
    "        print('합계: ' + format(self.total, ',') + ' 원')\n",
    "        print('---------------------')"
   ]
  },
  {
   "cell_type": "code",
   "execution_count": 15,
   "metadata": {},
   "outputs": [],
   "source": [
    "class Cash(Payment):\n",
    "    def cash(self):\n",
    "        print('현금 결재를 합니다.')\n",
    "\n",
    "class Card(Payment):\n",
    "    def card(self):\n",
    "        print('카드 결재를 합니다.')            \n",
    "\n",
    "class Mobile(Payment):\n",
    "    def mobile(self):\n",
    "        print('모바일 결재를 합니다.')\n",
    "\n",
    "class Point(Payment):\n",
    "    def point(self):\n",
    "        print('포인트 결재를 합니다.')       "
   ]
  },
  {
   "cell_type": "code",
   "execution_count": 17,
   "metadata": {},
   "outputs": [
    {
     "name": "stdout",
     "output_type": "stream",
     "text": [
      "\n",
      "---------------------\n",
      "      주문 내역       \n",
      "---------------------\n",
      "메뉴: 짜장면\n",
      "가격: 5,000 원\n",
      "수량: 2\n",
      "합계: 10,000 원\n",
      "---------------------\n",
      "현금 결재를 합니다.\n",
      "\n",
      "---------------------\n",
      "      주문 내역       \n",
      "---------------------\n",
      "메뉴: 김밥\n",
      "가격: 2,500 원\n",
      "수량: 3\n",
      "합계: 7,500 원\n",
      "---------------------\n",
      "카드 결재를 합니다.\n",
      "\n",
      "---------------------\n",
      "      주문 내역       \n",
      "---------------------\n",
      "메뉴: 연어회\n",
      "가격: 25,000 원\n",
      "수량: 2\n",
      "합계: 50,000 원\n",
      "---------------------\n",
      "모바일 결재를 합니다.\n",
      "\n",
      "---------------------\n",
      "      주문 내역       \n",
      "---------------------\n",
      "메뉴: 아메리카노\n",
      "가격: 2,000 원\n",
      "수량: 1\n",
      "합계: 2,000 원\n",
      "---------------------\n",
      "포인트 결재를 합니다.\n"
     ]
    }
   ],
   "source": [
    "cash = Cash()\n",
    "cash.order(\"짜장면\", 5000, 2)\n",
    "cash.calc()\n",
    "cash.cash()\n",
    "\n",
    "card = Card()\n",
    "card.order(\"김밥\", 2500, 3)\n",
    "card.calc()\n",
    "card.card()\n",
    "\n",
    "mobile = Mobile()\n",
    "mobile.order(\"연어회\", 25000, 2)\n",
    "mobile.calc()\n",
    "mobile.mobile()\n",
    "\n",
    "point = Point()\n",
    "point.order(\"아메리카노\", 2000, 1)\n",
    "point.calc()\n",
    "point.point()"
   ]
  },
  {
   "cell_type": "code",
   "execution_count": null,
   "metadata": {},
   "outputs": [],
   "source": []
  },
  {
   "cell_type": "markdown",
   "metadata": {},
   "source": [
    "#### 다중 상속"
   ]
  },
  {
   "cell_type": "code",
   "execution_count": 18,
   "metadata": {},
   "outputs": [],
   "source": [
    "class Phone:\n",
    "    name = '모토롤라'\n",
    " \n",
    "    def __init__(self):        # 생성자\n",
    "        self.env = \"Android\"   # 상속 안됨\n",
    "        \n",
    "    def tel(self):\n",
    "        print(\"전화 기능\")\n",
    "        \n",
    "    def sms(self):\n",
    "        print(\"문자 기능\")"
   ]
  },
  {
   "cell_type": "code",
   "execution_count": null,
   "metadata": {},
   "outputs": [],
   "source": [
    "class PDA:\n",
    "    def __init__(self, brand): # 생성자\n",
    "        self.brand = brand    # 상속 안됨\n",
    "        print('PDA 객체 생성')\n",
    "       \n",
    "    def mms(self):\n",
    "        print(\"멀티미디어 메시지\")"
   ]
  },
  {
   "cell_type": "code",
   "execution_count": 19,
   "metadata": {},
   "outputs": [],
   "source": [
    "class Smart(Phone, PDA):  # 다중 상속, C++: 지원, JAVA: 미지원\n",
    "    def __init__(self):\n",
    "        print('Smart 객체 생성')\n",
    "\n",
    "class FIR(Smart):\n",
    "    def __init__(self):\n",
    "        print('FIR 객체 생성')\n",
    "    \n",
    "    def analysis(self):\n",
    "        print(\"데이터 수집/분석/예측\")"
   ]
  },
  {
   "cell_type": "code",
   "execution_count": 20,
   "metadata": {},
   "outputs": [
    {
     "name": "stdout",
     "output_type": "stream",
     "text": [
      "Smart 객체 생성\n",
      "name: 모토롤라\n",
      "전화 기능\n",
      "문자 기능\n",
      "멀티미디어 메시지: Samsung\n",
      "-------------------\n",
      "FIR 객체 생성\n",
      "전화 기능\n",
      "문자 기능\n",
      "멀티미디어 메시지: Samsung\n",
      "데이터 수집/분석/예측\n"
     ]
    }
   ],
   "source": [
    "smart = Smart()\n",
    "print('name: ' + smart.name) # 모토롤라\n",
    " \n",
    "smart.tel() # Phone\n",
    "smart.sms() # Phone\n",
    "smart.mms() # PDA\n",
    "print('-------------------')\n",
    "fir = FIR()\n",
    "fir.tel()   # Phone\n",
    "fir.sms()   # Phone\n",
    "fir.mms()   # PDA\n",
    "fir.analysis() # FIR"
   ]
  },
  {
   "cell_type": "markdown",
   "metadata": {},
   "source": []
  }
 ],
 "metadata": {
  "kernelspec": {
   "display_name": "ai",
   "language": "python",
   "name": "python3"
  },
  "language_info": {
   "codemirror_mode": {
    "name": "ipython",
    "version": 3
   },
   "file_extension": ".py",
   "mimetype": "text/x-python",
   "name": "python",
   "nbconvert_exporter": "python",
   "pygments_lexer": "ipython3",
   "version": "3.10.13"
  }
 },
 "nbformat": 4,
 "nbformat_minor": 2
}

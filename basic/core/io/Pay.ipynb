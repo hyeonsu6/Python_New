{
 "cells": [
  {
   "cell_type": "code",
   "execution_count": 8,
   "metadata": {},
   "outputs": [
    {
     "name": "stdout",
     "output_type": "stream",
     "text": [
      "<class 'str'>\n",
      "7\n",
      "2\n",
      "2\n",
      "2\n",
      ">3000000<\n"
     ]
    }
   ],
   "source": [
    "# '     8월'.\n",
    "print(type('     8월')) # <class 'str'>\n",
    "print(len('     8월'))  # 영숫자, 특수문자 모두 한문자 처리\n",
    "print(len('     8월'.lstrip()))  # str class의 메소드 lstrip() 호출, 왼쪽 공백 삭제\n",
    "print(len('8월     '.rstrip()))  # 오른쪽 공백 삭제\n",
    "print(len('  8월   '.strip()))   # 양쪽 공백 삭제\n",
    "print(f'>{int(\"  3000000  \")}<') # int로 형변환시 공백 자동 삭제됨."
   ]
  },
  {
   "cell_type": "code",
   "execution_count": 3,
   "metadata": {},
   "outputs": [
    {
     "name": "stdout",
     "output_type": "stream",
     "text": [
      "<class 'module'>\n",
      "time.struct_time(tm_year=2024, tm_mon=2, tm_mday=1, tm_hour=11, tm_min=8, tm_sec=1, tm_wday=3, tm_yday=32, tm_isdst=0)\n",
      "date: 2024.02.01 11:08:01\n"
     ]
    }
   ],
   "source": [
    "import time # 모듈(py 파일)\n",
    "\n",
    "print(type(time))\n",
    "print(time.localtime())\n",
    "date = time.strftime('%Y.%m.%d %H:%M:%S', time.localtime())\n",
    "print('date:', date)"
   ]
  },
  {
   "cell_type": "code",
   "execution_count": 24,
   "metadata": {},
   "outputs": [
    {
     "name": "stdout",
     "output_type": "stream",
     "text": [
      "왕눈이님의 연봉을 처리했습니다.\n",
      "아로미님의 연봉을 처리했습니다.\n",
      "홍길동님의 연봉을 처리했습니다.\n",
      "가길순님의 연봉을 처리했습니다.\n",
      "나길순님의 연봉을 처리했습니다.\n"
     ]
    }
   ],
   "source": [
    "import time\n",
    "\n",
    "fr = open('./pay.csv', 'r', encoding='utf-8')\n",
    "fw = open('./pay_proc.csv', 'w', encoding='utf-8')\n",
    "date = time.strftime('%Y.%m.%d', time.localtime())\n",
    "\n",
    "# name,basic,year\n",
    "# 왕눈이,2300000    ,0 \n",
    "# 아로미,2600000,1\n",
    "# 홍길동,3000000,2\n",
    "# 가길순,4300000,5\n",
    "# 나길순,6100000,9\n",
    "\n",
    "line = fr.readline()\n",
    "# print(line)\n",
    "\n",
    "while True:\n",
    "  line = fr.readline()\n",
    "  if line == '': # 파일의 끝인지 검사\n",
    "    break\n",
    "\n",
    "  # print(line, end='')\n",
    "  values = line.split(',')\n",
    "  # print(values)\n",
    "  name = values[0]\n",
    "  basic = int(values[1])\n",
    "  year = int(values[2]) # 경력\n",
    "  total = basic * 12    # 연봉\n",
    "  \n",
    "  fw.write(f'성명: {name}\\n')\n",
    "  fw.write(f'기본급: {format(basic, \",\")}\\n')\n",
    "  fw.write(f'경력: {year}\\n')\n",
    "  fw.write(f'연봉: {format(total, \",\")}\\n')\n",
    "  fw.write(f'날짜: {date}\\n')\n",
    "  fw.write(f'-----------------------\\n')\n",
    "  print(f'{name}님의 연봉을 처리했습니다.') \n",
    "\n",
    "fr.close()\n",
    "fw.close()"
   ]
  }
 ],
 "metadata": {
  "kernelspec": {
   "display_name": "ai",
   "language": "python",
   "name": "python3"
  },
  "language_info": {
   "codemirror_mode": {
    "name": "ipython",
    "version": 3
   },
   "file_extension": ".py",
   "mimetype": "text/x-python",
   "name": "python",
   "nbconvert_exporter": "python",
   "pygments_lexer": "ipython3",
   "version": "3.10.13"
  }
 },
 "nbformat": 4,
 "nbformat_minor": 2
}

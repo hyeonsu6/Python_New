{
 "cells": [
  {
   "cell_type": "code",
   "execution_count": 1,
   "metadata": {},
   "outputs": [],
   "source": [
    "import time\n",
    "fr = open('./bmi.csv', 'r', encoding='utf-8')      # 파일 읽기 연결\n",
    "# print(type(fr))\n",
    "fw = open('./bmi_proc.csv', 'w', encoding='utf-8') # 파일 쓰기 연결\n",
    "\n",
    "date = time.strftime('%Y.%m.%d', time.localtime())\n",
    "line = fr.readline()\n",
    "# print(line)\n",
    "\n",
    "while True:\n",
    "    line = fr.readline()\n",
    "    \n",
    "    if line == '':\n",
    "        break\n",
    "        \n",
    "#     print(line, end='')\n",
    "    values = line.split(',')\n",
    "#     print(values)\n",
    "    weight = int(values[0])\n",
    "    height = int(values[1])\n",
    "    \n",
    "    bmi = (weight / (height * height)) * 10000\n",
    "    \n",
    "    if bmi < 18.5:\n",
    "        grade = '저체중'\n",
    "    elif bmi < 23:\n",
    "        grade = '정상'  \n",
    "    elif bmi < 25:\n",
    "        grade = '과체중'\n",
    "    else:\n",
    "        grade = '비만'\n",
    "            \n",
    "    # 2022.07.21 몸무게: 69 KG, 키: 168, BMI: 24.45, 판정: 과체중\n",
    "    fw.write(f'{date} 몸무게: {weight} KG, 키: {height}, BMI: {bmi:.2f}, 판정: {grade}\\n')\n",
    "    \n",
    "fr.close() # 파일 닫기\n",
    "fw.close() # 파일을 기록하고 닫음"
   ]
  }
 ],
 "metadata": {
  "kernelspec": {
   "display_name": "ai",
   "language": "python",
   "name": "python3"
  },
  "language_info": {
   "codemirror_mode": {
    "name": "ipython",
    "version": 3
   },
   "file_extension": ".py",
   "mimetype": "text/x-python",
   "name": "python",
   "nbconvert_exporter": "python",
   "pygments_lexer": "ipython3",
   "version": "3.10.13"
  }
 },
 "nbformat": 4,
 "nbformat_minor": 2
}

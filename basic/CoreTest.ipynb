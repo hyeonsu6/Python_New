{
 "cells": [
  {
   "cell_type": "code",
   "execution_count": 1,
   "metadata": {},
   "outputs": [],
   "source": [
    "# import Function.ipynb # X\n",
    "# import Core.py # X\n",
    "import Core  # 모듈"
   ]
  },
  {
   "cell_type": "code",
   "execution_count": 2,
   "metadata": {},
   "outputs": [
    {
     "name": "stdout",
     "output_type": "stream",
     "text": [
      "원금: 50,000,000 원\n",
      "년이자: 1,000,000 원\n",
      "월이자: 83,333 원\n",
      "오늘이자: 2,739 원\n",
      "세후이자: 2,355 원\n",
      "-------------------------\n"
     ]
    }
   ],
   "source": [
    "ija, mon, day, receive = Core.calc(50000000)\n",
    "Core.display(50000000, ija, mon, day, receive)"
   ]
  },
  {
   "cell_type": "code",
   "execution_count": 1,
   "metadata": {},
   "outputs": [
    {
     "name": "stdout",
     "output_type": "stream",
     "text": [
      "원금: 10,000,000 원\n",
      "년이자: 200,000 원\n",
      "월이자: 16,666 원\n",
      "오늘이자: 547 원\n",
      "세후이자: 470 원\n",
      "-------------------------\n"
     ]
    }
   ],
   "source": [
    "import Core as core # 모듈에 별명 적용\n",
    "\n",
    "wonkum=10000000\n",
    "ija, mon, day, receive = core.calc(wonkum)\n",
    "core.display(wonkum, ija, mon, day, receive)"
   ]
  },
  {
   "cell_type": "code",
   "execution_count": 3,
   "metadata": {},
   "outputs": [
    {
     "name": "stdout",
     "output_type": "stream",
     "text": [
      "BMI: 22.948115744558788\n"
     ]
    }
   ],
   "source": [
    "height = int(input('키(신장, cm): '))\n",
    "kg = int(input('몸무게(kg): '))\n",
    "\n",
    "bmi = core.calc_bmi(height, kg)\n",
    "\n",
    "print('BMI:', bmi)"
   ]
  },
  {
   "cell_type": "code",
   "execution_count": 1,
   "metadata": {},
   "outputs": [],
   "source": [
    "from Core import calc_book, calc_elect"
   ]
  },
  {
   "cell_type": "code",
   "execution_count": 3,
   "metadata": {},
   "outputs": [
    {
     "name": "stdout",
     "output_type": "stream",
     "text": [
      "회원 등급: p\n",
      "도서 정가: 30,000\n",
      "결재 금액: 27,900\n"
     ]
    }
   ],
   "source": [
    "grade = input('회원 등급(P/G/S/F): ')\n",
    "price = int(input('도서 정가: '))\n",
    "\n",
    "pay = calc_book(grade, price)\n",
    "\n",
    "print('회원 등급:', grade)\n",
    "print('도서 정가:', format(price, ','))\n",
    "print('결재 금액:', format(int(pay), ','))"
   ]
  },
  {
   "cell_type": "code",
   "execution_count": 9,
   "metadata": {},
   "outputs": [
    {
     "name": "stdout",
     "output_type": "stream",
     "text": [
      "사용량(kwh): 400\n",
      "단가(원): 187.9\n",
      "기본요금(원): 1,600\n",
      "금액(원): 76,760\n"
     ]
    }
   ],
   "source": [
    "use = int(input('전기 사용량을 입력:'))\n",
    "\n",
    "price, basic, tot = calc_elect(use)\n",
    "\n",
    "print('사용량(kwh):', use)\n",
    "print('단가(원):', price)\n",
    "print('기본요금(원):', format(basic, ','))\n",
    "print('금액(원):', format(tot, ','))"
   ]
  },
  {
   "cell_type": "code",
   "execution_count": 1,
   "metadata": {},
   "outputs": [],
   "source": [
    "from Core import *"
   ]
  },
  {
   "cell_type": "code",
   "execution_count": 2,
   "metadata": {},
   "outputs": [
    {
     "name": "stdout",
     "output_type": "stream",
     "text": [
      "100의 자리\n"
     ]
    }
   ],
   "source": [
    "print(calc_position(500))"
   ]
  },
  {
   "cell_type": "code",
   "execution_count": null,
   "metadata": {},
   "outputs": [],
   "source": []
  }
 ],
 "metadata": {
  "kernelspec": {
   "display_name": "ai",
   "language": "python",
   "name": "python3"
  },
  "language_info": {
   "codemirror_mode": {
    "name": "ipython",
    "version": 3
   },
   "file_extension": ".py",
   "mimetype": "text/x-python",
   "name": "python",
   "nbconvert_exporter": "python",
   "pygments_lexer": "ipython3",
   "version": "3.10.13"
  }
 },
 "nbformat": 4,
 "nbformat_minor": 2
}

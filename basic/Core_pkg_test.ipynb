{
 "cells": [
  {
   "cell_type": "code",
   "execution_count": 1,
   "metadata": {},
   "outputs": [],
   "source": [
    "import module.process.Core  # ./module/process/Core.py"
   ]
  },
  {
   "cell_type": "code",
   "execution_count": 2,
   "metadata": {},
   "outputs": [
    {
     "name": "stdout",
     "output_type": "stream",
     "text": [
      "원금: 1,000,000 원\n",
      "년이자: 20,000 원\n",
      "월이자: 1,666 원\n",
      "오늘이자: 54 원\n",
      "세후이자: 46 원\n",
      "--------------------\n"
     ]
    }
   ],
   "source": [
    "wonkum = int(input('원금 입력:'))\n",
    "\n",
    "ija, mon, day, receive = module.process.Core.calc(wonkum)\n",
    "module.process.Core.display(wonkum, ija, mon, day, receive)"
   ]
  },
  {
   "cell_type": "code",
   "execution_count": 3,
   "metadata": {},
   "outputs": [
    {
     "name": "stdout",
     "output_type": "stream",
     "text": [
      "원금: 5,000,000 원\n",
      "년이자: 100,000 원\n",
      "월이자: 8,333 원\n",
      "오늘이자: 273 원\n",
      "세후이자: 234 원\n",
      "--------------------\n"
     ]
    }
   ],
   "source": [
    "import module.process.Core as core  # 모듈에 별명 사용\n",
    "\n",
    "wonkum = int(input('원금 입력:'))\n",
    "\n",
    "ija, mon, day, receive = core.calc(wonkum)\n",
    "core.display(wonkum, ija, mon, day, receive)"
   ]
  },
  {
   "cell_type": "code",
   "execution_count": 4,
   "metadata": {},
   "outputs": [
    {
     "name": "stdout",
     "output_type": "stream",
     "text": [
      "원금: 10,000,000 원\n",
      "년이자: 200,000 원\n",
      "월이자: 16,666 원\n",
      "오늘이자: 547 원\n",
      "세후이자: 470 원\n",
      "--------------------\n"
     ]
    }
   ],
   "source": [
    "from module.process.Core import calc, display  # 필요한 함수 import\n",
    "\n",
    "wonkum = int(input('원금 입력:'))\n",
    "\n",
    "ija, mon, day, receive = calc(wonkum)\n",
    "display(wonkum, ija, mon, day, receive)"
   ]
  },
  {
   "cell_type": "code",
   "execution_count": 5,
   "metadata": {},
   "outputs": [
    {
     "name": "stdout",
     "output_type": "stream",
     "text": [
      "원금: 20,000,000 원\n",
      "년이자: 400,000 원\n",
      "월이자: 33,333 원\n",
      "오늘이자: 1,095 원\n",
      "세후이자: 941 원\n",
      "--------------------\n"
     ]
    }
   ],
   "source": [
    "from module.process.Core import * # 모든 함수 import\n",
    "\n",
    "wonkum = int(input('원금 입력:'))\n",
    "\n",
    "ija, mon, day, receive = calc(wonkum)\n",
    "display(wonkum, ija, mon, day, receive)"
   ]
  }
 ],
 "metadata": {
  "kernelspec": {
   "display_name": "ai",
   "language": "python",
   "name": "python3"
  },
  "language_info": {
   "codemirror_mode": {
    "name": "ipython",
    "version": 3
   },
   "file_extension": ".py",
   "mimetype": "text/x-python",
   "name": "python",
   "nbconvert_exporter": "python",
   "pygments_lexer": "ipython3",
   "version": "3.10.13"
  }
 },
 "nbformat": 4,
 "nbformat_minor": 2
}

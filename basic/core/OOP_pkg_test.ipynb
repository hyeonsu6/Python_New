{
 "cells": [
  {
   "cell_type": "code",
   "execution_count": 2,
   "metadata": {},
   "outputs": [
    {
     "name": "stdout",
     "output_type": "stream",
     "text": [
      "10\n",
      "3\n",
      "13\n",
      "7\n",
      "30\n",
      "3.3333333333333335\n"
     ]
    }
   ],
   "source": [
    "import pkg.OOP_pkg\n",
    "\n",
    "su1 = int(input('수1: '))\n",
    "su2 = int(input('수2: '))\n",
    "\n",
    "# Calculator class의 객체 생성, 객체명은 calculator\n",
    "# class명은 첫자 대문자, 객체명은 첫자 소문자, 일반적인 개발자들이 지키는 규칙\n",
    "cal = pkg.OOP_pkg.Calculator(su1, su2) # 객체 생성시 생성자 호출 -> 변수 초기화\n",
    "print(cal.su1) # class 요소 사용시 객체명을 앞부분에 동반함\n",
    "print(cal.su2)\n",
    "print(cal.add()) # self 생략\n",
    "print(cal.sub()) # self 생략\n",
    "print(cal.mul()) # self 생략\n",
    "print(cal.div()) # self 생략"
   ]
  },
  {
   "cell_type": "code",
   "execution_count": 3,
   "metadata": {},
   "outputs": [
    {
     "name": "stdout",
     "output_type": "stream",
     "text": [
      "10\n",
      "3\n",
      "13\n",
      "7\n",
      "30\n",
      "3.3333333333333335\n"
     ]
    }
   ],
   "source": [
    "import pkg.OOP_pkg as oop \n",
    "\n",
    "su1 = int(input('수1: '))\n",
    "su2 = int(input('수2: '))\n",
    "\n",
    "# Calculator class의 객체 생성, 객체명은 calculator\n",
    "# class명은 첫자 대문자, 객체명은 첫자 소문자, 일반적인 개발자들이 지키는 규칙\n",
    "cal = oop.Calculator(su1, su2) # 객체 생성시 생성자 호출 -> 변수 초기화\n",
    "print(cal.su1) # class 요소 사용시 객체명을 앞부분에 동반함\n",
    "print(cal.su2)\n",
    "print(cal.add()) # self 생략\n",
    "print(cal.sub()) # self 생략\n",
    "print(cal.mul()) # self 생략\n",
    "print(cal.div()) # self 생략"
   ]
  },
  {
   "cell_type": "code",
   "execution_count": 4,
   "metadata": {},
   "outputs": [
    {
     "name": "stdout",
     "output_type": "stream",
     "text": [
      "10\n",
      "3\n",
      "13\n",
      "7\n",
      "30\n",
      "3.3333333333333335\n"
     ]
    }
   ],
   "source": [
    "from pkg.OOP_pkg import Calculator, Elect \n",
    "\n",
    "su1 = int(input('수1: '))\n",
    "su2 = int(input('수2: '))\n",
    "\n",
    "# Calculator class의 객체 생성, 객체명은 calculator\n",
    "# class명은 첫자 대문자, 객체명은 첫자 소문자, 일반적인 개발자들이 지키는 규칙\n",
    "cal = Calculator(su1, su2) # 객체 생성시 생성자 호출 -> 변수 초기화\n",
    "print(cal.su1) # class 요소 사용시 객체명을 앞부분에 동반함\n",
    "print(cal.su2)\n",
    "print(cal.add()) # self 생략\n",
    "print(cal.sub()) # self 생략\n",
    "print(cal.mul()) # self 생략\n",
    "print(cal.div()) # self 생략"
   ]
  }
 ],
 "metadata": {
  "kernelspec": {
   "display_name": "ai",
   "language": "python",
   "name": "python3"
  },
  "language_info": {
   "codemirror_mode": {
    "name": "ipython",
    "version": 3
   },
   "file_extension": ".py",
   "mimetype": "text/x-python",
   "name": "python",
   "nbconvert_exporter": "python",
   "pygments_lexer": "ipython3",
   "version": "3.10.13"
  }
 },
 "nbformat": 4,
 "nbformat_minor": 2
}

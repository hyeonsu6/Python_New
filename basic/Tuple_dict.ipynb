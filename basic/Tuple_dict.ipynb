{
 "cells": [
  {
   "cell_type": "markdown",
   "metadata": {},
   "source": [
    "#### Tuple\n",
    "- List와 거의 같은 기능을 하나 값을 변경할 수 없음.\n",
    "- 값이 변경되면 안되는 데이터 원본을 저장하는 경우 사용\n",
    "- 데이터분석 패키지들이 데이터를 제공하는 형식"
   ]
  },
  {
   "cell_type": "code",
   "execution_count": 2,
   "metadata": {},
   "outputs": [
    {
     "name": "stdout",
     "output_type": "stream",
     "text": [
      "<class 'tuple'>\n",
      "('서울', '경기', '인천')\n"
     ]
    }
   ],
   "source": [
    "data = ('서울', '경기', '인천')\n",
    "print(type(data))\n",
    "print(data)"
   ]
  },
  {
   "cell_type": "code",
   "execution_count": 3,
   "metadata": {},
   "outputs": [
    {
     "name": "stdout",
     "output_type": "stream",
     "text": [
      "서울\n",
      "경기\n",
      "인천\n"
     ]
    }
   ],
   "source": [
    "for item in data:\n",
    "    print(item)"
   ]
  },
  {
   "cell_type": "code",
   "execution_count": 4,
   "metadata": {},
   "outputs": [
    {
     "name": "stdout",
     "output_type": "stream",
     "text": [
      "서울\n",
      "경기\n",
      "인천\n"
     ]
    }
   ],
   "source": [
    "for i in range(len(data)):\n",
    "    print(data[i])"
   ]
  },
  {
   "cell_type": "code",
   "execution_count": 6,
   "metadata": {},
   "outputs": [],
   "source": [
    "# data[0] = '강원도'  # X"
   ]
  },
  {
   "cell_type": "code",
   "execution_count": 7,
   "metadata": {},
   "outputs": [
    {
     "name": "stdout",
     "output_type": "stream",
     "text": [
      "('서울', '경기', '인천', 1, 2, 3)\n"
     ]
    }
   ],
   "source": [
    "data = data + (1, 2, 3)\n",
    "print(data)"
   ]
  },
  {
   "cell_type": "code",
   "execution_count": 8,
   "metadata": {},
   "outputs": [
    {
     "name": "stdout",
     "output_type": "stream",
     "text": [
      "('서울', '경기', '인천')\n"
     ]
    }
   ],
   "source": [
    "print(data[:3])"
   ]
  },
  {
   "cell_type": "code",
   "execution_count": 9,
   "metadata": {},
   "outputs": [
    {
     "name": "stdout",
     "output_type": "stream",
     "text": [
      "['서울', '경기', '인천', 1, 2, 3]\n"
     ]
    }
   ],
   "source": [
    "data = list(data) # 데이터 변경시 list 타입으로 형변환\n",
    "print(data)"
   ]
  },
  {
   "cell_type": "markdown",
   "metadata": {},
   "source": [
    "#### Dictionary\n",
    "- 키: 값의 구조\n",
    "- JSON과 구조가 같아 서로 변환이 가능함"
   ]
  },
  {
   "cell_type": "code",
   "execution_count": 10,
   "metadata": {},
   "outputs": [
    {
     "name": "stdout",
     "output_type": "stream",
     "text": [
      "<class 'dict'>\n",
      "{'성명': '왕눈이', '나이': 25, '기술': ['Python', 'Java', 'Spring Boot']}\n"
     ]
    }
   ],
   "source": [
    "emp = {'성명': '왕눈이', '나이': 25, '기술': ['Python', 'Java', 'Spring Boot']}\n",
    "print(type(emp))\n",
    "print(emp)"
   ]
  },
  {
   "cell_type": "code",
   "execution_count": 13,
   "metadata": {},
   "outputs": [
    {
     "name": "stdout",
     "output_type": "stream",
     "text": [
      "왕눈이\n",
      "25\n",
      "['Python', 'Java', 'Spring Boot']\n"
     ]
    }
   ],
   "source": [
    "print(emp['성명'])\n",
    "print(emp['나이'])\n",
    "print(emp['기술'])"
   ]
  },
  {
   "cell_type": "code",
   "execution_count": 18,
   "metadata": {},
   "outputs": [
    {
     "name": "stdout",
     "output_type": "stream",
     "text": [
      "{'성명': '왕눈이', '나이': 25, '기술': ['Python', 'Java', 'Spring Boot'], '주소': '인천'}\n"
     ]
    }
   ],
   "source": [
    "emp['주소'] = '인천' # 키가 없으면 추가됨.\n",
    "print(emp)"
   ]
  },
  {
   "cell_type": "code",
   "execution_count": 19,
   "metadata": {},
   "outputs": [
    {
     "name": "stdout",
     "output_type": "stream",
     "text": [
      "{'성명': '왕눈이', '나이': 25, '기술': ['Data Analysis', 'Tensorflow', 'AutoKeras'], '주소': '인천'}\n"
     ]
    }
   ],
   "source": [
    "emp['기술'] = ['Data Analysis', 'Tensorflow', 'AutoKeras'] # 기존에 키가 있으면 값이 변경됨.\n",
    "print(emp)"
   ]
  },
  {
   "cell_type": "code",
   "execution_count": 20,
   "metadata": {},
   "outputs": [
    {
     "name": "stdout",
     "output_type": "stream",
     "text": [
      "{'성명': '왕눈이', '나이': 25, '기술': ['Data Analysis', 'Tensorflow', 'AutoKeras']}\n"
     ]
    }
   ],
   "source": [
    "del emp['주소']\n",
    "print(emp)"
   ]
  },
  {
   "cell_type": "code",
   "execution_count": 21,
   "metadata": {},
   "outputs": [
    {
     "name": "stdout",
     "output_type": "stream",
     "text": [
      "3\n",
      "dict_keys(['성명', '나이', '기술'])\n",
      "dict_values(['왕눈이', 25, ['Data Analysis', 'Tensorflow', 'AutoKeras']])\n"
     ]
    }
   ],
   "source": [
    "print(len(emp))   # 키의 갯수\n",
    "print(emp.keys()) # 키만 추출\n",
    "print(emp.values()) # 값만 추출"
   ]
  },
  {
   "cell_type": "code",
   "execution_count": 22,
   "metadata": {},
   "outputs": [
    {
     "name": "stdout",
     "output_type": "stream",
     "text": [
      "성명: 왕눈이\n",
      "나이: 25\n",
      "기술: ['Data Analysis', 'Tensorflow', 'AutoKeras']\n"
     ]
    }
   ],
   "source": [
    "for key in emp.keys(): # ['성명', '나이', '기술']\n",
    "    print(f'{key}: {emp[key]}')"
   ]
  },
  {
   "cell_type": "code",
   "execution_count": 23,
   "metadata": {},
   "outputs": [],
   "source": [
    "import json # json 모듈 사용 선언\n",
    "\n",
    "# 변수의 값으로 다중 라인 문자열 지정\n",
    "movies='''\n",
    "{\n",
    "  \"list\": [\n",
    "            {\n",
    "            \"title\": \"엑소씨스트 영화 1\",\n",
    "            \"release_year\": 2020,\n",
    "            \"rating\": 9.2\n",
    "            },\n",
    "            {\n",
    "            \"title\": \"엑소씨스트 영화 2\",\n",
    "            \"release_year\": 2018,\n",
    "            \"rating\": 9.1\n",
    "            },\n",
    "            {\n",
    "            \"title\": \"엑소씨스트 영화 3\",\n",
    "            \"release_year\": 2019,\n",
    "            \"rating\": 9.0\n",
    "            },\n",
    "            {\n",
    "            \"title\": \"엑소씨스트 영화 4\",\n",
    "            \"release_year\": 2021,\n",
    "            \"rating\": 8.9\n",
    "            },\n",
    "            {\n",
    "            \"title\": \"엑소씨스트 영화 5\",\n",
    "            \"release_year\": 2017,\n",
    "            \"rating\": 8.8\n",
    "            }\n",
    "  ]\n",
    "}\n",
    "\n",
    "'''"
   ]
  },
  {
   "cell_type": "code",
   "execution_count": 24,
   "metadata": {},
   "outputs": [
    {
     "name": "stdout",
     "output_type": "stream",
     "text": [
      "<class 'str'>\n"
     ]
    }
   ],
   "source": [
    "print(type(movies))"
   ]
  },
  {
   "cell_type": "code",
   "execution_count": 25,
   "metadata": {},
   "outputs": [
    {
     "name": "stdout",
     "output_type": "stream",
     "text": [
      "\n",
      "{\n",
      "  \"list\": [\n",
      "            {\n",
      "            \"title\": \"엑소씨스트 영화 1\",\n",
      "            \"release_year\": 2020,\n",
      "            \"rating\": 9.2\n",
      "            },\n",
      "            {\n",
      "            \"title\": \"엑소씨스트 영화 2\",\n",
      "            \"release_year\": 2018,\n",
      "            \"rating\": 9.1\n",
      "            },\n",
      "            {\n",
      "            \"title\": \"엑소씨스트 영화 3\",\n",
      "            \"release_year\": 2019,\n",
      "            \"rating\": 9.0\n",
      "            },\n",
      "            {\n",
      "            \"title\": \"엑소씨스트 영화 4\",\n",
      "            \"release_year\": 2021,\n",
      "            \"rating\": 8.9\n",
      "            },\n",
      "            {\n",
      "            \"title\": \"엑소씨스트 영화 5\",\n",
      "            \"release_year\": 2017,\n",
      "            \"rating\": 8.8\n",
      "            }\n",
      "  ]\n",
      "}\n",
      "\n",
      "\n"
     ]
    }
   ],
   "source": [
    "print(movies)"
   ]
  },
  {
   "cell_type": "code",
   "execution_count": 26,
   "metadata": {},
   "outputs": [
    {
     "name": "stdout",
     "output_type": "stream",
     "text": [
      "<class 'dict'>\n"
     ]
    }
   ],
   "source": [
    "obj = json.loads(movies) # str -> json\n",
    "print(type(obj))"
   ]
  },
  {
   "cell_type": "code",
   "execution_count": 27,
   "metadata": {},
   "outputs": [
    {
     "name": "stdout",
     "output_type": "stream",
     "text": [
      "[{'title': '엑소씨스트 영화 1', 'release_year': 2020, 'rating': 9.2}, {'title': '엑소씨스트 영화 2', 'release_year': 2018, 'rating': 9.1}, {'title': '엑소씨스트 영화 3', 'release_year': 2019, 'rating': 9.0}, {'title': '엑소씨스트 영화 4', 'release_year': 2021, 'rating': 8.9}, {'title': '엑소씨스트 영화 5', 'release_year': 2017, 'rating': 8.8}]\n"
     ]
    }
   ],
   "source": [
    "print(obj['list'])"
   ]
  },
  {
   "cell_type": "code",
   "execution_count": 28,
   "metadata": {},
   "outputs": [
    {
     "name": "stdout",
     "output_type": "stream",
     "text": [
      "{'title': '엑소씨스트 영화 1', 'release_year': 2020, 'rating': 9.2}\n"
     ]
    }
   ],
   "source": [
    "print(obj['list'][0])"
   ]
  },
  {
   "cell_type": "code",
   "execution_count": 30,
   "metadata": {},
   "outputs": [
    {
     "name": "stdout",
     "output_type": "stream",
     "text": [
      "엑소씨스트 영화 1\n",
      "2020\n",
      "9.2\n"
     ]
    }
   ],
   "source": [
    "print(obj['list'][0]['title'])\n",
    "print(obj['list'][0]['release_year'])\n",
    "print(obj['list'][0]['rating'])"
   ]
  },
  {
   "cell_type": "code",
   "execution_count": 31,
   "metadata": {},
   "outputs": [],
   "source": [
    "taylor='''\n",
    "{\n",
    "  \"1\": \"Love Story\",\n",
    "  \"2\": \"Blank Space\",\n",
    "  \"3\": \"Shake It Off\",\n",
    "  \"4\": \"Bad Blood\",\n",
    "  \"5\": \"Delicate\"\n",
    "}\n",
    "'''"
   ]
  },
  {
   "cell_type": "code",
   "execution_count": 33,
   "metadata": {},
   "outputs": [
    {
     "name": "stdout",
     "output_type": "stream",
     "text": [
      "Love Story\n",
      "Blank Space\n",
      "Shake It Off\n",
      "Bad Blood\n",
      "Delicate\n"
     ]
    }
   ],
   "source": [
    "obj = json.loads(taylor)\n",
    "print(obj['1'])\n",
    "print(obj['2'])\n",
    "print(obj['3'])\n",
    "print(obj['4'])\n",
    "print(obj['5'])"
   ]
  }
 ],
 "metadata": {
  "kernelspec": {
   "display_name": "ai",
   "language": "python",
   "name": "python3"
  },
  "language_info": {
   "codemirror_mode": {
    "name": "ipython",
    "version": 3
   },
   "file_extension": ".py",
   "mimetype": "text/x-python",
   "name": "python",
   "nbconvert_exporter": "python",
   "pygments_lexer": "ipython3",
   "version": "3.10.13"
  }
 },
 "nbformat": 4,
 "nbformat_minor": 2
}

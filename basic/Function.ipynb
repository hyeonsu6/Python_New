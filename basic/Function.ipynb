{
 "cells": [
  {
   "cell_type": "markdown",
   "metadata": {},
   "source": [
    "#### 함수\n",
    "- 데이터를 전달 받는다. -> 전달받은 데이터를 처리한다. -> 처리 결과를 리턴한다.\n",
    "- 한번의 코딩으로 반복적인 데이터 처리가 가능하다."
   ]
  },
  {
   "cell_type": "code",
   "execution_count": 2,
   "metadata": {},
   "outputs": [],
   "source": [
    "# 함수 선언, 코드 실행시 함수가 메모리에 저장됨, 함수 실행은 아님\n",
    "def login():\n",
    "  print('로그인 처리됬습니다.')\n",
    "\n",
    "def logout():\n",
    "  print('-' * 30)\n",
    "  print('로그아웃 처리됬습니다.')  "
   ]
  },
  {
   "cell_type": "code",
   "execution_count": 4,
   "metadata": {},
   "outputs": [
    {
     "name": "stdout",
     "output_type": "stream",
     "text": [
      "로그인 처리됬습니다.\n",
      "------------------------------\n",
      "로그아웃 처리됬습니다.\n"
     ]
    }
   ],
   "source": [
    "login()\n",
    "logout()"
   ]
  },
  {
   "cell_type": "code",
   "execution_count": 5,
   "metadata": {},
   "outputs": [],
   "source": [
    "def login(id):\n",
    "  print(f'{id}님 로그인 처리됬습니다.')\n",
    "\n",
    "def logout(id):\n",
    "  print('-' * 30)\n",
    "  print(f'{id}님 로그아웃 처리됬습니다.')  "
   ]
  },
  {
   "cell_type": "code",
   "execution_count": 7,
   "metadata": {},
   "outputs": [
    {
     "name": "stdout",
     "output_type": "stream",
     "text": [
      "user1님 로그인 처리됬습니다.\n",
      "------------------------------\n",
      "user1님 로그아웃 처리됬습니다.\n"
     ]
    }
   ],
   "source": [
    "login('user1')\n",
    "logout('user1')"
   ]
  },
  {
   "cell_type": "code",
   "execution_count": 8,
   "metadata": {},
   "outputs": [],
   "source": [
    "def login(id, password):\n",
    "  if id == 'user1' and password == '1234':  \n",
    "    print(f'{id}님 로그인 성공')\n",
    "  else:\n",
    "    print(f'{id}님 로그인 실패')    "
   ]
  },
  {
   "cell_type": "code",
   "execution_count": 10,
   "metadata": {},
   "outputs": [
    {
     "name": "stdout",
     "output_type": "stream",
     "text": [
      "user1님 로그인 성공\n"
     ]
    }
   ],
   "source": [
    "login('user1', '1234')"
   ]
  },
  {
   "cell_type": "code",
   "execution_count": 11,
   "metadata": {},
   "outputs": [],
   "source": [
    "def login(id, password):\n",
    "  if id == 'user1' and password == '1234':  \n",
    "    return True\n",
    "  else:\n",
    "    return False"
   ]
  },
  {
   "cell_type": "code",
   "execution_count": 13,
   "metadata": {},
   "outputs": [
    {
     "name": "stdout",
     "output_type": "stream",
     "text": [
      "True\n",
      "로그인 성공\n"
     ]
    }
   ],
   "source": [
    "sw = login('user1', '1234')\n",
    "print(sw)\n",
    "if sw == True:\n",
    "  print('로그인 성공')\n",
    "else:\n",
    "  print('로그인 실패')"
   ]
  },
  {
   "cell_type": "code",
   "execution_count": 14,
   "metadata": {},
   "outputs": [
    {
     "name": "stdout",
     "output_type": "stream",
     "text": [
      "댓글 쓰기\n"
     ]
    }
   ],
   "source": [
    "if sw == True:\n",
    "  print('댓글 쓰기')\n",
    "else:\n",
    "  print('댓글 쓰기 불가능')"
   ]
  },
  {
   "cell_type": "code",
   "execution_count": 15,
   "metadata": {},
   "outputs": [
    {
     "name": "stdout",
     "output_type": "stream",
     "text": [
      "댓글 쓰기 불가능\n"
     ]
    }
   ],
   "source": [
    "if login('user1', '1111'):\n",
    "  print('댓글 쓰기')\n",
    "else:\n",
    "  print('댓글 쓰기 불가능')"
   ]
  },
  {
   "cell_type": "code",
   "execution_count": 16,
   "metadata": {},
   "outputs": [
    {
     "name": "stdout",
     "output_type": "stream",
     "text": [
      "댓글 쓰기 불가능\n"
     ]
    }
   ],
   "source": [
    "if False:\n",
    "  print('댓글 쓰기')\n",
    "else:\n",
    "  print('댓글 쓰기 불가능')"
   ]
  },
  {
   "cell_type": "code",
   "execution_count": 17,
   "metadata": {},
   "outputs": [
    {
     "data": {
      "text/plain": [
       "3.6666666666666665"
      ]
     },
     "execution_count": 17,
     "metadata": {},
     "output_type": "execute_result"
    }
   ],
   "source": [
    "11/3"
   ]
  },
  {
   "cell_type": "code",
   "execution_count": 24,
   "metadata": {},
   "outputs": [],
   "source": [
    "def add(a, b):  # 함수\n",
    "  tot = a + b\n",
    "  return tot\n",
    "\n",
    "def sub(a, b):\n",
    "  su = a - b\n",
    "  return su\n",
    "\n",
    "def mul(a, b):\n",
    "  su = a * b\n",
    "  return su\n",
    "\n",
    "def div(a, b):\n",
    "  su = a / b\n",
    "  return su\n",
    "\n",
    "def mok(a, b):\n",
    "  su = a // b\n",
    "  return su\n",
    "\n",
    "def nam(a, b):\n",
    "  su = a % b\n",
    "  return su"
   ]
  },
  {
   "cell_type": "code",
   "execution_count": 27,
   "metadata": {},
   "outputs": [
    {
     "name": "stdout",
     "output_type": "stream",
     "text": [
      "8\n",
      "1\n",
      "20\n",
      "3.6666666666666665\n",
      "3\n",
      "1\n"
     ]
    }
   ],
   "source": [
    "print(add(3, 5))\n",
    "print(sub(4, 3))\n",
    "print(mul(4, 5))\n",
    "print(div(11, 3))\n",
    "print(mok(11, 3))\n",
    "print(nam(10, 3))"
   ]
  },
  {
   "cell_type": "code",
   "execution_count": 1,
   "metadata": {},
   "outputs": [],
   "source": [
    "def calc(a, b):  # 함수\n",
    "  tot = a + b\n",
    "  sub = a - b\n",
    "  mul = a * b\n",
    "  div = a / b\n",
    "  mok = a // b\n",
    "  nam = a % b\n",
    "  \n",
    "  return tot, sub, mul, div, mok, nam"
   ]
  },
  {
   "cell_type": "code",
   "execution_count": 2,
   "metadata": {},
   "outputs": [
    {
     "name": "stdout",
     "output_type": "stream",
     "text": [
      "13\n",
      "7\n",
      "30\n",
      "3.3333333333333335\n",
      "3\n",
      "1\n"
     ]
    }
   ],
   "source": [
    "tot, sub, mul, div, mok, nam = calc(10, 3)\n",
    "print(tot)\n",
    "print(sub)\n",
    "print(mul)\n",
    "print(div)\n",
    "print(mok)\n",
    "print(nam)"
   ]
  },
  {
   "cell_type": "code",
   "execution_count": 4,
   "metadata": {},
   "outputs": [
    {
     "name": "stdout",
     "output_type": "stream",
     "text": [
      "원룸의 크기: 18m² 5.454545454545455 평\n"
     ]
    }
   ],
   "source": [
    "# m²/ 3.3 = 평\n",
    "\n",
    "# 원룸의 width를 입력하세요:6\n",
    "# 원룸의 height를 입력하세요:4\n",
    "# 원룸의 크기: 24 m²7.272727272727273 평\n",
    "width = int(input('원룸의 width를 입력하세요:'))\n",
    "height = int(input('원룸의 height를 입력하세요:'))\n",
    "m2 = width * height # 함수 대상\n",
    "py = m2 / 3.3       # 함수 대상\n",
    "print(f'원룸의 크기: {m2}m² {py} 평')"
   ]
  },
  {
   "cell_type": "code",
   "execution_count": 9,
   "metadata": {},
   "outputs": [
    {
     "name": "stdout",
     "output_type": "stream",
     "text": [
      "원룸의 크기: 18m² 5.454545454545455 평\n"
     ]
    }
   ],
   "source": [
    "# 함수 기반으로 변경\n",
    "def calc(width, height):\n",
    "  m2 = width * height\n",
    "  py = m2 / 3.3\n",
    "  \n",
    "  return m2, py\n",
    "\n",
    "width = int(input('원룸의 width를 입력하세요:'))\n",
    "height = int(input('원룸의 height를 입력하세요:'))\n",
    "\n",
    "m2, py = calc(width, height)\n",
    "\n",
    "print(f'원룸의 크기: {m2}m² {py} 평')"
   ]
  },
  {
   "cell_type": "code",
   "execution_count": 10,
   "metadata": {},
   "outputs": [
    {
     "name": "stdout",
     "output_type": "stream",
     "text": [
      "BMI: 23.306680053067517\n"
     ]
    }
   ],
   "source": [
    "# 신체질량지수(BMI) = (몸무게(kg) / 신장의 제곱) * 10000\n",
    "\n",
    "# 몸무게(kg):64\n",
    "# 키(신장, cm):167\n",
    "# BMI: 22.948115744558788\n",
    "\n",
    "def calcbmi(cm, kg):\n",
    "    bmi = kg / (cm**2) * 10000\n",
    "    return bmi\n",
    "\n",
    "cm = int(input(\"키를 입력하세요 :\"))\n",
    "kg = int(input(\"몸무게를 입력하세요:\"))\n",
    "\n",
    "bmi= calcbmi(cm, kg)\n",
    "print(f'BMI: {bmi}')"
   ]
  },
  {
   "cell_type": "code",
   "execution_count": 17,
   "metadata": {},
   "outputs": [],
   "source": [
    "# global 전역 변수의 사용\n",
    "# 여러개의 함수가 값을 공유할 때 사용\n",
    "\n",
    "tot=0 # 젼역 변수\n",
    "\n",
    "def ibgo(cnt):\n",
    "    global tot # 전역 변수 사용 선언, 생략시 에러 발생, local variable 'tot' referenced before assignment\n",
    "    tot = tot + cnt # \n",
    "    print('입고 {0} -> 재고 {1}'.format(cnt, tot))\n",
    "\n",
    "def chulgo(cnt):\n",
    "    global tot\n",
    "    tot = tot - cnt\n",
    "    print('출고 {0} -> 재고 {1}'.format(cnt, tot))"
   ]
  },
  {
   "cell_type": "code",
   "execution_count": 18,
   "metadata": {},
   "outputs": [
    {
     "name": "stdout",
     "output_type": "stream",
     "text": [
      "입고 1 -> 재고 1\n",
      "입고 2 -> 재고 3\n",
      "입고 3 -> 재고 6\n"
     ]
    }
   ],
   "source": [
    "ibgo(1)\n",
    "ibgo(2)\n",
    "ibgo(3)"
   ]
  },
  {
   "cell_type": "code",
   "execution_count": 16,
   "metadata": {},
   "outputs": [
    {
     "name": "stdout",
     "output_type": "stream",
     "text": [
      "출고 3 -> 재고 3\n",
      "출고 2 -> 재고 1\n",
      "출고 1 -> 재고 0\n"
     ]
    }
   ],
   "source": [
    "chulgo(3)\n",
    "chulgo(2)\n",
    "chulgo(1)"
   ]
  },
  {
   "cell_type": "code",
   "execution_count": 48,
   "metadata": {},
   "outputs": [
    {
     "name": "stdout",
     "output_type": "stream",
     "text": [
      "1\n"
     ]
    }
   ],
   "source": [
    "import random\n",
    "\n",
    "data=[-3, -2, -1, 1, 2, 3]  # -1: 출고, 1: 입고\n",
    "\n",
    "su = random.choice(data)\n",
    "print(su)\n"
   ]
  },
  {
   "cell_type": "code",
   "execution_count": 64,
   "metadata": {},
   "outputs": [
    {
     "name": "stdout",
     "output_type": "stream",
     "text": [
      "3\n"
     ]
    }
   ],
   "source": [
    "tot=0 # 젼역 변수\n",
    "\n",
    "def ibgo(cnt):\n",
    "    global tot # 전역 변수 사용 선언, 생략시 에러 발생, local variable 'tot' referenced before assignment\n",
    "    tot = tot + cnt # \n",
    "\n",
    "def chulgo(cnt):\n",
    "    global tot\n",
    "    tot = tot - cnt\n",
    "    \n",
    "for i in range(50):\n",
    "  su = random.choice(data)\n",
    "  \n",
    "  if su < 0:\n",
    "    chulgo(su*-1)\n",
    "  else:\n",
    "    ibgo(su)\n",
    "    \n",
    "print(tot)    "
   ]
  }
 ],
 "metadata": {
  "kernelspec": {
   "display_name": "ai",
   "language": "python",
   "name": "python3"
  },
  "language_info": {
   "codemirror_mode": {
    "name": "ipython",
    "version": 3
   },
   "file_extension": ".py",
   "mimetype": "text/x-python",
   "name": "python",
   "nbconvert_exporter": "python",
   "pygments_lexer": "ipython3",
   "version": "3.10.13"
  }
 },
 "nbformat": 4,
 "nbformat_minor": 2
}

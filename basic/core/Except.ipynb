{
 "cells": [
  {
   "cell_type": "markdown",
   "metadata": {},
   "source": [
    "#### 예외 처리\n",
    "<pre>\n",
    "try:\n",
    "  예외 발생 예상 코드\n",
    "except Exception as e: \n",
    "    예외 발생 원인 출력\n",
    "    Pass  <- 예외 무시\n",
    "else:\n",
    "    예외가 발생하지 않은 경우\n",
    "finally:\n",
    "    예외 발생과 상관없이 실행되는 루틴\n",
    "</pre>    "
   ]
  },
  {
   "cell_type": "code",
   "execution_count": null,
   "metadata": {},
   "outputs": [],
   "source": [
    "tot = int(input('총점을 입력하세요: '))\n",
    "cnt = int(input('과목수를 입력하세요: '))\n",
    "avg = tot / cnt\n",
    " \n",
    "print('tot: ' + str(tot))\n",
    "print('cnt: ' + str(cnt))\n",
    "print('avg: ' + str(avg))\n",
    " \n",
    "print('평균은 ' + str(avg) + ' 입니다.')"
   ]
  },
  {
   "cell_type": "code",
   "execution_count": null,
   "metadata": {},
   "outputs": [],
   "source": [
    "tot = int(input('총점을 입력하세요: '))\n",
    "cnt = int(input('과목수를 입력하세요: '))\n",
    "\n",
    "if cnt != 0:\n",
    "    avg = tot / cnt\n",
    "\n",
    "    print('tot: ' + str(tot))\n",
    "    print('cnt: ' + str(cnt))\n",
    "    print('avg: ' + str(avg))\n",
    "\n",
    "    print('평균은 ' + str(avg) + ' 입니다.')    \n",
    "else:\n",
    "    print('과목수가 0이면 안됩니다.')"
   ]
  },
  {
   "cell_type": "code",
   "execution_count": null,
   "metadata": {},
   "outputs": [],
   "source": [
    "while True:\n",
    "  try: # 예외 발생 예상 코드\n",
    "      tot = int(input('총점을 입력하세요: '))\n",
    "      cnt = int(input('과목수를 입력하세요: '))\n",
    "      avg = tot / cnt\n",
    "      \n",
    "      print('총점: ' + str(tot))\n",
    "      print('평균: ' + str(avg))\n",
    "      \n",
    "      break\n",
    "  except Exception as e:  # 예외 수집\n",
    "      print(e)\n",
    "      \n",
    "  print('정상적으로 작동중...')  "
   ]
  },
  {
   "cell_type": "code",
   "execution_count": null,
   "metadata": {},
   "outputs": [],
   "source": [
    "while True:\n",
    "  try: \n",
    "      # 예외 발생 예상 코드\n",
    "      tot = int(input('총점을 입력하세요: '))\n",
    "      cnt = int(input('과목수를 입력하세요: '))\n",
    "      \n",
    "      if cnt == 9999:\n",
    "        break\n",
    "      \n",
    "      avg = tot / cnt\n",
    "      \n",
    "      print(f'총점: {tot}')\n",
    "      print(f'과목수: {cnt}')\n",
    "      \n",
    "  except Exception as e:  # 예외 발생\n",
    "      print(e) # 예외 원인 출력\n",
    "      \n",
    "  else: # 예외가 발생하지 않은 경우\n",
    "      # {0:.1f}: 실수형으로 소수 첫째자리까지 출력, 반올림 처리됨.\n",
    "      print('평균은 {0:.1f} 입니다.'.format(avg))\n",
    "      \n",
    "  finally: \n",
    "      print('무조건 실행...') # IO 파일 닫기, DBMS, Socket 닫기\n",
    "      \n",
    "print('정상적으로 작동중...')  \n",
    "  "
   ]
  },
  {
   "cell_type": "code",
   "execution_count": 4,
   "metadata": {},
   "outputs": [
    {
     "name": "stdout",
     "output_type": "stream",
     "text": [
      "0으로 나누려 했습니다.\n",
      "성적처리 프로그램을 종료합니다.\n"
     ]
    }
   ],
   "source": [
    "try:\n",
    "    tot = int(input('총점을 입력하세요: '))\n",
    "    cnt = int(input('과목수를 입력하세요: '))\n",
    "    avg = tot / cnt\n",
    " \n",
    "    print('tot: ' + str(tot))\n",
    "    print('cnt: ' + str(cnt))\n",
    "    print('avg: ' + str(avg))\n",
    "\n",
    "except ZeroDivisionError: # 0으로 나누기 예외 캡쳐\n",
    "    print(\"0으로 나누려 했습니다.\")\n",
    "    \n",
    "except ValueError:        # 비정상적인 값 캡쳐\n",
    "    print('숫자가 아닙니다.')\n",
    "\n",
    "except Exception as e:\n",
    "    print('알수 없는 에러입니다.')\n",
    "    print(e)\n",
    "    \n",
    "else: # 정상 처리\n",
    "    print('평균은 {0:.1f} 입니다.'.format(avg))\n",
    "    \n",
    "finally: # 무조건 실행\n",
    "    print(\"성적처리 프로그램을 종료합니다.\")"
   ]
  },
  {
   "cell_type": "code",
   "execution_count": null,
   "metadata": {},
   "outputs": [],
   "source": []
  }
 ],
 "metadata": {
  "kernelspec": {
   "display_name": "ai",
   "language": "python",
   "name": "python3"
  },
  "language_info": {
   "codemirror_mode": {
    "name": "ipython",
    "version": 3
   },
   "file_extension": ".py",
   "mimetype": "text/x-python",
   "name": "python",
   "nbconvert_exporter": "python",
   "pygments_lexer": "ipython3",
   "version": "3.10.13"
  }
 },
 "nbformat": 4,
 "nbformat_minor": 2
}

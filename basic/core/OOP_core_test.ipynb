{
 "cells": [
  {
   "cell_type": "code",
   "execution_count": 1,
   "id": "4562e96e",
   "metadata": {},
   "outputs": [],
   "source": [
    "import OOP_core as oop # OOP_core.py 파일을 oop란 이름으로 사용 설정"
   ]
  },
  {
   "cell_type": "code",
   "execution_count": 2,
   "id": "f80173cb",
   "metadata": {},
   "outputs": [
    {
     "name": "stdout",
     "output_type": "stream",
     "text": [
      "10\n",
      "3\n",
      "13\n",
      "7\n",
      "30\n",
      "3.3333333333333335\n"
     ]
    }
   ],
   "source": [
    "su1 = int(input('수1: '))\n",
    "su2 = int(input('수2: '))\n",
    "\n",
    "# Calculator class의 객체 생성, 객체명은 calculator\n",
    "# class명은 첫자 대문자, 객체명은 첫자 소문자, 일반적인 개발자들이 지키는 규칙\n",
    "cal = oop.Calculator(su1, su2) # 객체 생성시 생성자 호출 -> 변수 초기화\n",
    "print(cal.su1) # class 요소 사용시 객체명을 앞부분에 동반함\n",
    "print(cal.su2)\n",
    "print(cal.add()) # self 생략\n",
    "print(cal.sub()) # self 생략\n",
    "print(cal.mul()) # self 생략\n",
    "print(cal.div()) # self 생략"
   ]
  },
  {
   "cell_type": "code",
   "execution_count": 3,
   "id": "aeae48e1",
   "metadata": {},
   "outputs": [
    {
     "name": "stdout",
     "output_type": "stream",
     "text": [
      "사용량(kwh): 400\n",
      "단가(원): 187.9\n",
      "기본요금(원): 1,600\n",
      "금액(원): 76,760\n"
     ]
    }
   ],
   "source": [
    "use = int(input('전기 사용량을 입력:'))\n",
    "\n",
    "elect = oop.Elect() # 첫자가 대문자이면 클래스의 객체 생성임.\n",
    "\n",
    "price, basic, tot = elect.calc(use)\n",
    "\n",
    "print('사용량(kwh):', use)\n",
    "print('단가(원):', price)\n",
    "print('기본요금(원):', format(basic, ','))\n",
    "print('금액(원):', format(tot, ','))"
   ]
  },
  {
   "cell_type": "code",
   "execution_count": 4,
   "id": "cb96c776",
   "metadata": {},
   "outputs": [
    {
     "name": "stdout",
     "output_type": "stream",
     "text": [
      "10\n",
      "3\n",
      "13\n",
      "7\n",
      "30\n",
      "3.3333333333333335\n"
     ]
    }
   ],
   "source": [
    "from OOP_core import Calculator, Elect # 모듈의 구성요소인 특정 클래만 import\n",
    "\n",
    "su1 = int(input('수1: '))\n",
    "su2 = int(input('수2: '))\n",
    "\n",
    "# Calculator class의 객체 생성, 객체명은 calculator\n",
    "# class명은 첫자 대문자, 객체명은 첫자 소문자, 일반적인 개발자들이 지키는 규칙\n",
    "cal = Calculator(su1, su2) # 객체 생성시 생성자 호출 -> 변수 초기화\n",
    "print(cal.su1) # class 요소 사용시 객체명을 앞부분에 동반함\n",
    "print(cal.su2)\n",
    "print(cal.add()) # self 생략\n",
    "print(cal.sub()) # self 생략\n",
    "print(cal.mul()) # self 생략\n",
    "print(cal.div()) # self 생략"
   ]
  },
  {
   "cell_type": "code",
   "execution_count": 5,
   "id": "ba80a6d9",
   "metadata": {},
   "outputs": [
    {
     "name": "stdout",
     "output_type": "stream",
     "text": [
      "사용량(kwh): 300\n",
      "단가(원): 187.9\n",
      "기본요금(원): 1,600\n",
      "금액(원): 57,970\n"
     ]
    }
   ],
   "source": [
    "use = int(input('전기 사용량을 입력:'))\n",
    "\n",
    "elect = Elect()\n",
    "\n",
    "price, basic, tot = elect.calc(use)\n",
    "\n",
    "print('사용량(kwh):', use)\n",
    "print('단가(원):', price)\n",
    "print('기본요금(원):', format(basic, ','))\n",
    "print('금액(원):', format(tot, ','))"
   ]
  },
  {
   "cell_type": "code",
   "execution_count": null,
   "id": "a3fc4a27",
   "metadata": {},
   "outputs": [],
   "source": []
  }
 ],
 "metadata": {
  "kernelspec": {
   "display_name": "ai",
   "language": "python",
   "name": "python3"
  },
  "language_info": {
   "codemirror_mode": {
    "name": "ipython",
    "version": 3
   },
   "file_extension": ".py",
   "mimetype": "text/x-python",
   "name": "python",
   "nbconvert_exporter": "python",
   "pygments_lexer": "ipython3",
   "version": "3.10.13"
  }
 },
 "nbformat": 4,
 "nbformat_minor": 5
}
